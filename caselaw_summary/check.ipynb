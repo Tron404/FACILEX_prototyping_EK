{
 "cells": [
  {
   "cell_type": "code",
   "execution_count": 13,
   "metadata": {},
   "outputs": [
    {
     "name": "stdout",
     "output_type": "stream",
     "text": [
      "openai gpt-3.5 basic 616\n",
      "openai gpt-3.5 detailed 616\n",
      "openai gpt-3.5 cod 616\n",
      "deepinfra mixtral basic 616\n",
      "deepinfra mixtral detailed 616\n",
      "deepinfra mixtral cod 616\n",
      "deepinfra gemma basic 616\n",
      "deepinfra gemma detailed 616\n",
      "deepinfra gemma cod 616\n"
     ]
    }
   ],
   "source": [
    "input = [\n",
    "    (\"openai\", \"gpt-3.5\", \"basic\", 616), (\"openai\", \"gpt-3.5\", \"detailed\", 616), (\"openai\", \"gpt-3.5\", \"cod\", 616),\n",
    "    (\"deepinfra\", \"mixtral\", \"basic\", 616), (\"deepinfra\", \"mixtral\", \"detailed\", 616), (\"deepinfra\", \"mixtral\", \"cod\", 616),\n",
    "    (\"deepinfra\", \"gemma\", \"basic\", 616), (\"deepinfra\", \"gemma\", \"detailed\", 616), (\"deepinfra\", \"gemma\", \"cod\", 616)\n",
    "        ]\n",
    "\n",
    "for (api, model, p_type, t_size) in input:\n",
    "    print(api, model, p_type, t_size)\n",
    "    !python groq_functions.py $api $model $p_type $t_size 1"
   ]
  }
 ],
 "metadata": {
  "kernelspec": {
   "display_name": "groq_summary",
   "language": "python",
   "name": "python3"
  },
  "language_info": {
   "codemirror_mode": {
    "name": "ipython",
    "version": 3
   },
   "file_extension": ".py",
   "mimetype": "text/x-python",
   "name": "python",
   "nbconvert_exporter": "python",
   "pygments_lexer": "ipython3",
   "version": "3.11.8"
  }
 },
 "nbformat": 4,
 "nbformat_minor": 2
}
