{
 "cells": [
  {
   "cell_type": "code",
   "execution_count": 2,
   "metadata": {},
   "outputs": [],
   "source": [
    "from datasets import load_dataset\n",
    "import numpy as np\n",
    "\n",
    "multi_lexsum = load_dataset(\"allenai/multi_lexsum\", name=\"v20230518\")\n",
    "modified_dataset = multi_lexsum[\"test\"].filter(lambda x: x[\"summary/short\"] != None)"
   ]
  },
  {
   "cell_type": "code",
   "execution_count": 3,
   "metadata": {},
   "outputs": [
    {
     "name": "stdout",
     "output_type": "stream",
     "text": [
      "/home/keddie/anaconda3/envs/facilex_caselaw/lib/python3.11/site-packages\n"
     ]
    }
   ],
   "source": [
    "import tiktoken\n",
    "import torch\n",
    "import pytextrank\n",
    "\n",
    "import spacy\n",
    "\n",
    "from tqdm import tqdm\n",
    "\n",
    "# To get the tokeniser corresponding to a specific model in the OpenAI API:\n",
    "tokenizer = tiktoken.encoding_for_model(\"gpt-3.5\")\n",
    "device = torch.device(\"cuda\" if torch.cuda.is_available() else \"cpu\")\n",
    "nlp = spacy.load(\"en_core_web_sm\")\n",
    "nlp.add_pipe(\"textrank\", last = True)\n",
    "nlp.max_length = 3_000_000\n"
   ]
  },
  {
   "cell_type": "code",
   "execution_count": 4,
   "metadata": {},
   "outputs": [
    {
     "name": "stdout",
     "output_type": "stream",
     "text": [
      "11\n",
      "60\n"
     ]
    }
   ],
   "source": [
    "# user_prompt = \"Summarize concisely the following legal texts. Include as many relevant facts as possible. A fact is relevant if it mentions plaintiffs, counsel, type of action, filling date, name of the court, description of class, defendants, statuatory basis, rought remedy, judges, consolidated class, whether it is a class action, date of decree, citations, duration of decrees, last action in case.\"\n",
    "system_prompt = \"You are a legal expert. You must answer concisely and truthfully, including only information that is relevant to the conversation. Stay faithful to the original text and keep the exact wording as found in the text as closely as possible. Only include facts relevant to the text, without any filler words.\"\n",
    "user_prompt = \"Summarize concisely the following legal texts.\"\n",
    "\n",
    "max_context_length = 16384\n",
    "max_output_length = 130\n",
    "length_user_prompt = len(tokenizer.encode(user_prompt))\n",
    "length_system_prompt = len(tokenizer.encode(system_prompt))\n",
    "print(length_user_prompt)\n",
    "print(length_system_prompt)"
   ]
  },
  {
   "cell_type": "code",
   "execution_count": 5,
   "metadata": {},
   "outputs": [
    {
     "data": {
      "text/plain": [
       "101"
      ]
     },
     "execution_count": 5,
     "metadata": {},
     "output_type": "execute_result"
    }
   ],
   "source": [
    "max_id = np.argmax([len(a) for a in modified_dataset[\"sources\"]])\n",
    "len(modified_dataset[\"sources\"][max_id])"
   ]
  },
  {
   "cell_type": "code",
   "execution_count": 14,
   "metadata": {},
   "outputs": [],
   "source": [
    "def get_extractive_summary(parsed_doc, limit_phrases = 4, limit_sentences = 4):\n",
    "    sentence_bounds = [[sentence.start, sentence.end, set([])] for sentence in parsed_doc.sents]\n",
    "\n",
    "    phrase_id = 0\n",
    "    unit_vector = []\n",
    "    # get original text according to rank\n",
    "    for p in parsed_doc._.phrases:\n",
    "        unit_vector.append(p.rank)\n",
    "\n",
    "        for chunk in p.chunks:\n",
    "            for sent_start, sent_end, sent_vector in sentence_bounds:\n",
    "                if chunk.start >= sent_start and chunk.end <= sent_end:\n",
    "                    sent_vector.add(phrase_id)\n",
    "                    break\n",
    "\n",
    "        phrase_id += 1\n",
    "\n",
    "        if limit_phrases and phrase_id >= limit_phrases:\n",
    "            break\n",
    "\n",
    "    # euclidean distance between phrases, choose those with smallest distance\n",
    "    unit_vector = np.asarray(unit_vector)\n",
    "    sum_ranks = np.sum(unit_vector)\n",
    "    unit_vector /= sum_ranks \n",
    "    sent_rank = {}\n",
    "    sent_id = 0\n",
    "    for sent_start, sent_end, sent_vector in sentence_bounds:\n",
    "        sum_sq = 0\n",
    "        # only add to sum if phrase id not in sent vector so a phrase will not count itself\n",
    "        sum_sq = np.sqrt(np.sum([unit_vector[phrase_id]*unit_vector[phrase_id] for phrase_id in range(len(unit_vector)) if phrase_id not in sent_vector]))\n",
    "        sent_rank[sent_id] = sum_sq\n",
    "        sent_id += 1\n",
    "\n",
    "    sent_rank = dict(sorted(sent_rank.items(), key = lambda x: x[1]))\n",
    "\n",
    "    sent_id = 0\n",
    "    sent_text = {}\n",
    "    for sentence in parsed_doc.sents:\n",
    "        sent_text[sent_id] = sentence.text\n",
    "        sent_id += 1\n",
    "\n",
    "    limit = 0\n",
    "    summary = []\n",
    "    for id_sentence in sent_rank.keys():\n",
    "        summary.append(sent_text[id_sentence])\n",
    "        limit += 1\n",
    "        if limit > limit_sentences:\n",
    "            break\n",
    "\n",
    "    return summary[:-1]"
   ]
  },
  {
   "cell_type": "code",
   "execution_count": 12,
   "metadata": {},
   "outputs": [],
   "source": [
    "from collections import defaultdict\n",
    "\n",
    "np.random.seed(42)\n",
    "# build in layers, from smallest number of doc types to largest\n",
    "def select_docs(docket, docket_metadata, limit_docket_docs = 10):\n",
    "    doc_types = defaultdict(list)\n",
    "    for doc, doc_type in zip(docket, docket_metadata[\"doc_type\"]):\n",
    "        doc_types[doc_type].append(doc)\n",
    "\n",
    "    # first pass, add at least 1 doc type \n",
    "    limit_counter = 0\n",
    "    docs = []\n",
    "    aux = doc_types.copy()\n",
    "    for doc_type, documents in doc_types.items():\n",
    "        if len(documents) == 1:\n",
    "            docs.append(documents[0])\n",
    "            aux.pop(doc_type)\n",
    "        else:\n",
    "            random_idx = np.random.randint(0, len(documents))\n",
    "            docs.append(documents[random_idx])\n",
    "            documents.pop(random_idx)\n",
    "        limit_counter += 1\n",
    "\n",
    "    while limit_counter < limit_docket_docs and aux.keys():\n",
    "        # compute softmax prob weights to perform weighted sampling, by choosing least present documents preponderentely\n",
    "        prob_weights = [1/len(documents) for documents in aux.values()]\n",
    "        prob_weights = np.asarray(prob_weights)/np.sum(prob_weights)\n",
    "        random_key = np.random.choice(list(aux.keys()), p = prob_weights)\n",
    "\n",
    "        # uniform sampling across documents from the chosen key\n",
    "        random_idx = np.random.randint(0, len(aux[random_key]))\n",
    "        docs.append(aux[random_key][random_idx])\n",
    "\n",
    "        # remove doc so it won't be present in future sampling\n",
    "        aux[random_key].pop(random_idx)\n",
    "\n",
    "        # if there are no more documents to this key, remove the key entirely\n",
    "        if len(aux[random_key]) == 0:\n",
    "            aux.pop(random_key)\n",
    "\n",
    "        limit_counter += 1\n",
    "\n",
    "    return docs"
   ]
  },
  {
   "cell_type": "code",
   "execution_count": 16,
   "metadata": {},
   "outputs": [
    {
     "name": "stderr",
     "output_type": "stream",
     "text": [
      "100%|██████████| 616/616 [2:02:58<00:00, 11.98s/it]  \n"
     ]
    }
   ],
   "source": [
    "import json\n",
    "\n",
    "with open(\"extracted.txt\", \"a\") as file:\n",
    "    limit_docket = len(modified_dataset)\n",
    "    limit_docket_docs = 10\n",
    "    iterator = zip(modified_dataset[\"sources\"][:limit_docket], modified_dataset[\"sources_metadata\"][:limit_docket])\n",
    "    for docket_id, (docket, docket_metadata) in enumerate(tqdm(iterator, total = limit_docket)):\n",
    "        documents = select_docs(docket, docket_metadata, limit_docket_docs = limit_docket_docs)\n",
    "\n",
    "        summaries = []\n",
    "        for doc in documents:\n",
    "            summary_aux = get_extractive_summary(nlp(doc), limit_phrases = None, limit_sentences = 5)\n",
    "            summaries.append(summary_aux)\n",
    "        json.dump(summaries, open(f\"extracted_sums/extracted_sums_json_{'random_selection'}/{docket_id}.json\", \"w\"), indent = 2)"
   ]
  },
  {
   "cell_type": "code",
   "execution_count": 24,
   "metadata": {},
   "outputs": [
    {
     "data": {
      "text/plain": [
       "{'0': ['On top of being unlawfully imprisoned for failure to pay debts owed to the City, Plaintiffs Mitchell and Williams were, pursuant to City policy, coerced with longer unlawful prison terms by City officials if they did not \"volunteer\" to labor in the City jail under disgusting conditions for an extra credit of $25 per day toward their debts .. It is the policy and practice of the City to tell inmates that their time in City jail can be further reduced if they agree to \"work oft\" their debts to the City While in jail by laboring at janitorial and other work for the City at a rate of $25 per day toward their debts.\\n Not only does the City charge additional fees only to those people who are indigent and cannot afford to pay their costs, fees, and fines in full immediately and place such indigent people on \"pay only\" probation when the cases of wealthier people would be closed, but by imposing imprisonment, threats of imprisonment, indeterminate \"probation,\" and other restrictions on Plaintiffs, the City takes advantage of its control over the machinery of the City jail and police systems to deny debtors the statutory protections that every other Alabama debtor may invoke against a private creditor. It is the policy and practice of the City of Montgomery to contract with a private for-profit corporation, Judicial Correction Services, Inc. (\"JCS, Inc\"), to perform what the City calls \"probation\" services, which consists of collecting City debts in exchange for fees added to the debts owed by people who cannot afford to pay their traffic ticket fees, costs, and surcharges immediately. The court, without conducting any inquiry into Mr. Brown\\'s ability to pay, without appointing Mr. Brown an attorney to represent him at the hearing, and without considering any alternatives to imprisonment, ordered him to serve 44 days in City jail, purportedly to \"serve out\" his $2,200 debt at a rate of $50 per day.5\\n22.',\n",
       "  'However the Court will not order a monthly payment in excess of $25.00 for indigent defendants;\\n(b) may remit costs and fines;\\n(c) must (unless fines and costs are remitted in full) provide a defendant deemed indigent or otherwise unable to pay the $25.00 minimum monthly payment, the option to complete community service (if physically able) in lieu of payment of costs and fines and schedule a review at another compliance hearing, provided that: (i) if a defendant who has previously been placed on a payment plan fails to make one or more payments, the Court may order said defendant to complete community service (if physically able) to satisfy his or her debt; and (ii) that community service will not be an option for satisfaction of amounts owed for restitution, unless restitution is owed to the City (Forms One and Two provided); and/or\\n(c) may order any other remedy deemed just and appropriate at the discretion of the Court, excluding incarceration.\\niv. To cause the Public Defenders’ contracts to be altered so as to remove the clause referencing the “Fair Trial Tax Fund” by which the Public Defender’s compensation is currently linked to whether enough money is placed in that account, to add a clause requiring the Public\\n4\\n\\n\\x0cCase 2:14-cv-00186-MHT-CSC Document 51-1 Filed 11/17/14 Page 5 of 33\\nDefender’s attendance at the training provided by the Municipal Court regarding the general operations of the Court, and to add a clause to the effect that the Public Defenders’ duties in connection with defendants who are incarcerated for failure to pay fines, court costs, or restitution include notifying defendants of applicable appellate rights and assisting them in filing notices of appeal and motions to waive any appellate bond if they wish to claim indigence. The training will also emphasize the Public Defenders’ obligation to represent their clients during courtroom proceedings in Municipal Court as described in the Judicial Procedures, to meet with and advise clients prior to any indigence/ability-to-pay hearing and to provide to the client the Public Defender’s name and contact information, if requested, in cases in which clients are incarcerated for failure to pay fines and costs or have a pending contempt proceeding for failure to comply with an order to do community service in lieu of paying fines and costs and to fully inform their clients of their pertinent rights under Alabama law, the United States Constitution, and the new Municipal Court procedures as they relate to the indigence/ability to pay hearings.\\n Page 16 of 33\\nJUDICIAL PROCEDURES OF THE MUNICIPAL COURT OF THE CITY OF MONTGOMERY FOR\\nINDIGENT DEFENDANTS AND NONPAYMENT Page 6 of 11\\n(a) place the defendant on a payment plan or modify the existing payment plan and schedule a review at another compliance hearing in approximately sixty days (60) (Forms One and Two provided);\\n(b) give the defendant another review date set as a compliance hearing (Forms One and Two provided);\\n(c) order the defendant to complete community service (if physically able) in lieu of payment of costs and fines and schedule a review at another compliance hearing (Forms One and Two provided);\\n(d) remit costs and fines;\\n(e) order the defendant to serve jail time with fines and costs reduced per day at an amount no less than that allowed by Ala. R. Crim. Page 18 of 33\\nJUDICIAL PROCEDURES OF THE MUNICIPAL COURT OF THE CITY OF MONTGOMERY FOR\\nINDIGENT DEFENDANTS AND NONPAYMENT Page 8 of 11\\n\\nFORM ONE\\n\\nPayment of Fines and Costs\\n\\nIf at any time you cannot pay your fines and costs as ordered by the Court, you may go before the Court at your Compliance Hearing to discuss your financial situation, to ask that the Court’s Order be changed (for example, to ask that you pay less) and/or to explain why you are unable to pay.',\n",
       "  'Indeed, after representing for over two weeks that the above-related events constituted the extent of their unlawful behavior, counsel for the Defendants informed counsel for the Plaintiffs in writing on the eve of the Plaintiffs filing this Notice to alert this Court about the March 13 violations that Judge Hendley and City officers had openly enforced this policy since at least December 30, 2014, and that Defendant Hendley and City employees had taken into custody at least four additional people when they could not afford to pay a $50 fine for being late that had been summarily imposed. Four of the people illegally jailed by the City that morning became named Plaintiffs in this case: Kendrick Maull, Tamara Dudley, Demetri Colvin, and Risko McDaniel\\nThe City judge then told relatives of those inmates that the person would not be released from City jail unless the relatives could produce enough money to pay some of their debts. Filed 04/02/15 Page 12 of 12\\nCERTIFICATE OF SERVICE\\nI hereby certify that foregoing has been served upon the following by electronic filing and notification through the U.S. District Court for the Middle District of Alabama CM/ECF system, this 2nd day of April, 2015:\\nStephanie L. Smithee Attorney for City of Montgomery City of Montgomery Legal Department Post Office Box 1111 Montgomery, Alabama 36101-1111 ssmithee@montgomeryal.gov\\nShannon L. Holliday Copeland Franco Screws & Gill, P.A. Post Office Box 347 Montgomery, AL 36101 holliday@copelandfranco.com After an urgent inquiry by undersigned counsel, counsel for Judge Hendley and counsel for the City investigated the situation and admitted in writing that two people were taken into City custody when they could not immediately pay $50 and that no indigence or ability to pay hearing was conducted to determine whether the individuals could pay what appears to have\\n4 None of those fined or taken into custody when they could not pay were informed of their appellate rights after conviction as required by the Court order.\\n The City prosecutor (who is a private attorney contracted by the City to pursue debt collection and other cases in City court) refused to explain, prior to Ms. Ballard’s hearing, why the City sought to keep her in jail at the hearing and why he had declared that Ms. Ballard was “not indigent” even though she clearly fell significantly below state statutory indigency standards.',\n",
       "  '(Attachments: # 1 Exhibit, # 2 Exhibit, # 3 Exhibit, # 4 Exhibit, # 5 Exhibit, # 6 Exhibit, # 7 Exhibit, # 8 Exhibit, # 9 Exhibit, # 10 Exhibit, # 11 Exhibit, # 12 Exhibit, # 13 Exhibit, # 14 Exhibit, # 15 Exhibit, # 16 Exhibit, # 17 Exhibit, # 18 Exhibit, # 19 Exhibit, # 20 Exhibit, # 21 Exhibit, # 22 Exhibit, # 23 Exhibit, # 24 Exhibit, # 25 Exhibit, # 26 Exhibit, # 27 Exhibit, # 28 Exhibit, # 29 Exhibit, # 30 Exhibit, # 31 Exhibit, # 32 Exhibit, # 33 Exhibit, # 34 Exhibit, # 35 Exhibit)(Karakatsanis, Alec) Modified on 5/27/2014 to reflect this is an Amended complaint not an amendment. 05/05/2014\\n05/15/2014 05/15/2014 05/15/2014 05/16/2014\\n05/23/2014 05/23/2014\\n05/23/2014\\n\\nMontgomery, AL; (5) Montgomery City Attorney Kim O. Fehl, Municipal Court Director Kenneth Nixon, Montgomery City Police Chief Kevin J. Murphy, and the Presiding Montgomery Municipal Court Judge shall be present in person for the June 30, 2014 hearing; (6) This Preliminary Injunction Order shall apply to the parties, the parties\\' officers,agents, servants, employees, and attorneys, and any other person who is in active concert or participation with the parties or the parties\\' officers, agents, servants, employees, and attorneys ; (7) Because the risk is low that the City will incur substantial expenses, costs, or damages during the pendency of this preliminary injunction, because Plfs are substantially likely to succeed on the merits, and because Plfs have limited financial resources, no security bond will be required under Rule 65(c) of the FRCP. Order docketed in Civil Acton No. 2:13−cv−732 as directed.(dmn, ) (Entered: 06/11/2014)\\n37 ORDER directing as follows: (1) a telephone Status Conference is set for 7/21/2014 @ 09:00 AM before Honorable Judge Mark E. Fuller, by conference call arranged by counsel for defendant; (2) directing the clerk to also docket this order in Cleveland v. City of Montgomery, et al., Case No. 2:13cv732, as further set out in order. Signed by Honorable Judge Mark E. Fuller on 6/9/2014. (dmn, ) (Entered: 06/09/2014)\\n34 RESPONSE in Opposition to 29 MOTION to Relieve its Obligation Under the 18 Preliminary Injunction Order, to File a Plan or, in the Alternative, for the Court to Treat Exhibit 1 to the Proposed Counterclain in Cleveland an filed by Tequila Ballard, Lorenzo Brown, Gavin Bullock, Demetri Colvin, Tamara Dudley, Janet Edwards, Thomas Ellis, Kendrick Maull, Risko McDaniel, Sharnalle Mitchell, Courtney Tubbs, Jermaine Tyler, Carl Williams, Rayshone Williams, Tito Williams, Willie Williams. (\"JCS\") associated with traffic tickets by Sharnalle Mitchell, Lorenzo Brown, and Tito Williams until further order of the Court; (2) on or before 6/2/2014, the City shall submit to the Court a comprehensive plan, as further set out in order, which shall comply with all applicable federal and state laws and the Alabama Rulesof Criminal Procedure; (3) On or before June 13, 2014, Plfs shall submit objections to the Citysproposed plan; (4) the Court will hold a Hearing to address the adequacy of the City\\'s current or proposed plan on 6/30/2014 @ 09:00 AM before Honorable Judge Mark E. Fuller, in Courtroom 2A, US Courthouse,\\n\\n\\x0cCase: 2:14-cv-186 As of: 10/31/2017 07:42 AM CDT 9 of 14\\n\\n05/02/2014',\n",
       "  'Based on the subm issions of the parties, the applicable law,\\n\\nrepresentations made by counsel at the hearing, and the record as a whole, the Court finds\\n\\nthat Plaintiffs have demonstrated: (1) that Plaintiffs have a substantial likelihood of success\\n\\non the m erits of its claim that Defendant City of Montgom ery (“the City”) violated their\\n\\nFourteenth Amendment due process and equal protection rights as outlined in Bearden v.\\n\\nGeorgia, 461 U.S. 660 (1983), by imprisoning them, and by threatening to imprison them,\\n\\nfor failing to pay the balance on outstanding fines, fees, and costs associated with traffic\\n\\ntickets they incurred without first conducting a meaningful inquiry into the reasons for their\\n\\nfailure to pay, including their potential status as indigents, and without considering\\n\\nalternatives to im prisonment; (2) that there is a substantial threat of irreparable injury to\\n\\nPlaintiffs if the preliminary injunction does not issue because there is no evidence suggesting\\n\\n\\x0cCase 2:14-cv-00186-MEF-CSC Document 18 Montgom ery City Attorney Kim O. Fe hl, Municipal Court Director Kenneth Nixon, Montgomery City Police Chief Kevin J. Murphy, and the Presiding Montgom ery Municipal Court Judge shall be present in person for the June 30, 2014 hearing.\\n On or before June 2, 2014, the City shlal submit to the Court a comprehensive plan listing the current or proposed policies and procedures the City follows or intends to follow in making future determinations of an individual’s ability to pay, the policies and procedures the City follows or intends to follow in m aking future determinations as to reasons for an individual’s failure to pay, the policies and procedures the City follows or intends to follow in m aking future determ inations of any alternative m easures of punishm ent other than imprisonment for the non-payment of fines, and the policies and procedures the City follows or intends to follow in making future determinations of whether these alternative measures\\n2\\n\\n\\x0cCase 2:14-cv-00186-MEF-CSC Document 18 Filed 05/01/14 Page 3 of 3\\nare adequate to m eet the City’s interests in punishing and deterring the non-paym ent of fines, which shall comply with all applicable federal and state laws and the Alabama Rules of Criminal Procedure.\\n Because the risk is low that the City will incur substantial expenses, costs, or damages during the pendency of this prelim inary injunction, because Plaintiffs are substantially likely to succeed on the m erits, and because Plaintiffs have lim ited financial resources, no security bond will be required under Rule 65(c) of the Federal Rules of Civil Procedure.\\nDONE this the 1st day of May, 2014, at 4:54 p.m., Central Standard Time. PRELIMINARY INJUNCTION ORDER\\n\\nOn May 1, 2014, the Court held a hearing to address Plaintiffs Sha rnalle Mitchell\\n\\n(“Mitchell”), Lorenzo Brown (“Brown”), and Tito William s’s (“Williams”) (collectively,\\n\\n“Plaintiffs”) Motion for Prelim inary Injunction (Doc. #2).'],\n",
       " '1': [\"11/17/2014 Jury Demand: None Nature of Suit: 440 Civil Rights: Other Jurisdiction: Federal Question\\n\\nHarriet Delores Cleveland\\n\\nrepresented by David Carter Dinielli Southern Poverty Law Center 400 Washington Ave Montgomery, AL 36104 334−956−8200 Fax: 334−956−8481 Email: david.dinielli@splcenter.org LEAD ATTORNEY ATTORNEY TO BE NOTICED\\n\\nSara Michelle Zampierin Southern Poverty Law Center 400 Washington Avenue Montgomery, AL 36104 334−956−8200 Fax: 334−956−8481 Email: sara.zampierin@splcenter.org LEAD ATTORNEY ATTORNEY TO BE NOTICED\\n\\nSamuel Jacob Brooke Southern Poverty Law Center 400 Washington Avenue Montgomery, AL 36104 334−956−8200 Fax: 334−956−8481 Email: samuel.brooke@splcenter.org ATTORNEY TO BE NOTICED\\n\\nV. Consol Plaintiff Markis Antwuan Watts\\n\\nrepresented by David Carter Dinielli (See above for address) LEAD ATTORNEY ATTORNEY TO BE NOTICED\\nSara Michelle Zampierin (See above for address) LEAD ATTORNEY ATTORNEY TO BE NOTICED\\nSamuel Jacob Brooke (See above for address) ATTORNEY TO BE NOTICED\\n\\nV.\\n\\n\\x0cCase: 2:13-cv-732 As of: 01/18/2019 10:59 AM CST 2 of 8\\n\\nDefendant City of Montgomery\\n\\nrepresented by Jason Cole Paulk Office of the Governor Alabama State Capitol 600 Dexter Avenue, Room NB−05 Montgomery, AL 36130 334−242−7120 Fax: 334−242−2335 Email: jason.paulk@governor.alabama.gov LEAD ATTORNEY ATTORNEY TO BE NOTICED\\n\\nRobert David Segall Copeland Franco Screws & Gill PO Box 347 Montgomery, AL 36101−0347 334−834−1180 Fax: 334−834−3172 Email: segall@copelandfranco.com 47 COPY OF ORDER entered in Civil Action No. 2:14cv186−MEF directing as follows: (1) a telephone Status Conference is set for 7/21/2014 @ 09:00 AM before Honorable Judge Mark E. Fuller, by conference call arranged by counsel for defendant; (2) directing the clerk to also docket this order in Cleveland v. City of Montgomery, et al., Case No. 2:13cv732, as further set out in order. (Attachments: # 1 Text of Proposed Order Granting Plaintiffs' Unopposed Motion for Limited Participation in June 30, 2014 Hearing in Mitchell v. City of Montgomery, No. 2:14−CV−00186 and Motion to Suspend Scheduling Order)(Zampierin, Sara) (Entered: 05/14/2014)\\n28 NOTICE of Appearance by Shannon Lynn Holliday on behalf of City of Montgomery (Holliday, Shannon) (Entered: 05/15/2014)\\n29 NOTICE of Appearance by Robert David Segall on behalf of City of Montgomery (Segall, Robert) (Entered: 05/15/2014)\\n30 ORDER TO SHOW CAUSE, in writing, as to why 27 MOTION To have limited participation in the June 30, 2014 hearing in Mitchell v. City of Montgomery (No. 2:14−cv−186) and to suspend our Scheduling Order re 18 Scheduling Order should not be granted; Show Cause Response due by 5/23/2014. The Honorable\\n\\nrepresented by Jason Cole Paulk (See above for address) LEAD ATTORNEY ATTORNEY TO BE NOTICED\\n\\nRobert David Segall (See above for address) LEAD ATTORNEY ATTORNEY TO BE NOTICED\\n\\nShannon Lynn Holliday (See above for address) LEAD ATTORNEY ATTORNEY TO BE NOTICED\\n\\nV.\\nConsol Defendant\\nLes Hayes, III The Honorable\\n\\nrepresented by Jason Cole Paulk (See above for address) LEAD ATTORNEY ATTORNEY TO BE NOTICED\\nRobert David Segall (See above for address) LEAD ATTORNEY ATTORNEY TO BE NOTICED\\nShannon Lynn Holliday (See above for address)\\n\\n\\x0cCase: 2:13-cv-732 As of: 01/18/2019 10:59 AM CST 3 of 8\\nLEAD ATTORNEY ATTORNEY TO BE NOTICED\\n\\nDate Filed 10/04/2013\\n10/04/2013 10/04/2013 10/04/2013 10/17/2013\\n10/18/2013 10/18/2013 10/18/2013 10/18/2013 10/18/2013 10/18/2013 10/28/2013\\n10/31/2013 11/12/2013 11/12/2013\\n\\n# Docket Text\\n1 NOTICE OF REMOVAL by City of Montgomery, Milton J. Westry from Circuit Court of Montgomery County, AL, case number CV−2013−901494. (djy, ) (Entered: 04/30/2014)\\n25 NOTICE by Harriet Delores Cleveland, Markis Antwuan Watts re 23 First MOTION to Compel to Defendant City of Montgomery, 24 Order to Show Cause of Dismissal of First Motion to Compel to Defendant City of Montgomery (Zampierin, Sara) (Entered: 05/13/2014)\\n26 ORDER denying 23 Motion to Compel.\",\n",
       "  'A declaration, pursuant to certiorari review, that Defendants violated Plaintiff’s rights under the U.S. and Alabama Constitutions and Alabama law;\\nd. An order awarding reasonable attorneys’ fees under 42 U.S.C. § 1988; and e. Other and further relief as the Court deems just and proper.\\n On August 20, 2013, Plaintiff was arrested at her home for her inability to pay fines and costs associated with various traffic tickets in the Montgomery Municipal Court (“Municipal Court”).\\n Plaintiff requests review in the nature of certiorari to determine whether the order of incarceration violated Plaintiff’s rights under the U.S. and Alabama Constitutions and Alabama law.\\n Under 28 U.S.C. §§ 2201–2202, Plaintiff seeks a declaration that Defendants’ actions, policies, and practices that led to her incarceration for her inability to pay traffic tickets violated the rights to due process and equal protection contained in the Fourteenth Amendment of the United States Constitution. Defendants violated Plaintiff’s constitutional rights to due process, equal protection, and counsel as explained in the preceding paragraphs, including the equivalent protections under the Alabama Constitution, Ala. Const.',\n",
       "  'However the Court will not order a monthly payment in excess of $25.00 for indigent defendants;\\n(b) may remit costs and fines;\\n(c) must (unless fines and costs are remitted in full) provide a defendant deemed indigent or otherwise unable to pay the $25.00 minimum monthly payment, the option to complete community service (if physically able) in lieu of payment of costs and fines and schedule a review at another compliance hearing, provided that: (i) if a defendant who has previously been placed on a payment plan fails to make one or more payments, the Court may order said defendant to complete community service (if physically able) to satisfy his or her debt; and (ii) that community service will not be an option for satisfaction of amounts owed for restitution, unless restitution is owed to the City (Forms One and Two provided); and/or\\n(c) may order any other remedy deemed just and appropriate at the discretion of the Court, excluding incarceration.\\niv. 4. Defendants represent that the Judges of the Municipal Court of Montgomery, Alabama, in their official capacities, have implemented Judicial Procedures of the Municipal Court of the City of Montgomery for Indigent Defendants and Nonpayment (hereinafter “Judicial Procedures”) effective one week from the date of entry of this Court’s Order granting this motion, to determine whether a person may be incarcerated for non-payment of fines, costs, and restitution. Page 8 of 11\\nJUDICIAL PROCEDURES OF THE MUNICIPAL COURT OF THE CITY OF MONTGOMERY FOR\\nINDIGENT DEFENDANTS AND NONPAYMENT Page 8 of 11\\n\\nFORM ONE\\n\\nPayment of Fines and Costs\\n\\nIf at any time you cannot pay your fines and costs as ordered by the Court, you may go before the Court at your Compliance Hearing to discuss your financial situation, to ask that the Court’s Order be changed (for example, to ask that you pay less) and/or to explain why you are unable to pay. If the defendant is determined to be indigent or otherwise unable to pay the amount owed for fines, fees, court costs, and/or restitution in full as ordered, the Court:\\n(a) may determine the defendant’s ability to make payments based on that defendant’s: (i) disposable income, as reflected in the Affidavit of Substantial Hardship and any other paperwork required by the Court, and as further clarified by answers to questions posed in the hearing, (ii) the defendant’s assets, and (iii) the defendant’s earning potential; order the defendant to make payments consistent therewith; and schedule a review at another compliance hearing (Forms One and Two provided). Thus, because the Procedures require an actual finding of willful nonpayment before any person can be incarcerated for non-payment, and because the Procedures authorize alternatives to incarceration as needed to permit Defendants to fulfill their legitimate interest in punishing defendants who cannot afford to pay, the Parties believe, and ask the Court to declare, that the Procedures facially comply with Bearden v. Georgia.\\n',\n",
       "  'Only final orders and judgments of district courts, or final orders of bankruptcy courts which have been appealed to and fully resolved by a district court under 28 U.S.C.§ 158, generally are appealable. If any party makes a timely motion in the district court under the Federal Rules of Civil Procedure of a type specified in this rule, the time for appeal for all parties runs from the date of entry of the order disposing of the last such timely filed motion.\\n Filed 11/17/14 Page 3 of 3\\n(4) The court declares that these “Judicial Procedures of the Municipal Court of the City of Montgomery for Indigent Defendants and Nonpayment” facially comply with the requirements of the Fourteenth and Sixth Amendments to the U.S. Constitution, Article I, §§ 1, 6, and 22 of the Alabama Constitution, and Rule 26.11 of the Alabama Rules of Criminal Procedure.\\n Effect of a notice of appeal: A district court loses jurisdiction (authority) to act after the filing of a timely notice of appeal, except for actions in aid of appellate jurisdiction or to rule on a timely motion of the type specified in Fed. (2) The court declares that, under the current status of the law, the constitutional principles set out in Bearden v. Georgia, 461 U.S. 660 (1983), regarding incarceration for non-payment, and Turner v. Rogers, --- U.S. ---, 131 S. Ct. 2507 (2011), regarding notice, apply in municipal-court proceedings and that, to the extent applicable in a particular case, the judges of the Montgomery Municipal Court are legally required to follow them.\\n',\n",
       "  'Plaintiffs Harriet Delores Cleveland and Martin Antwuan Watts bring these consolidated federal cases against defendants City of Montgomery and two of the City’s municipal judges, claiming that they were thrown in jail for being too poor to pay parking tickets in violation of their rights to counsel, equal protection, and due process under the following federal and state laws: the Sixth and Fourteenth Amendments of the United States Constitution; Article I, §§ 1, 6, and 22 of the Alabama Constitution; and the Alabama Rules of Criminal Procedure. As such, judges in municipal courts, like judges in state courts, must follow\\n11\\n\\n\\x0cBearden and Turner, and the judges in the Montgomery Municipal Court are no exception.2\\nB. Declaration 2\\nThe parties next request this federal court to\\ndeclare that the proposed judicial procedures facially\\ncomply with the constitutional principles set out in\\nBearden, regarding incarceration for non-payment, and\\nTurner, regarding notice. 16\\n\\n\\x0cC. Declaration 3\\nLast, the parties request that this federal court\\ndeclare that the proposed judicial procedures facially\\ncomply with the requirements of the Fourteenth and\\nSixth Amendments to the United States Constitution,\\n§§ 13, 64, and 225 of the Alabama Constitution, and Rule\\n26.11 of the Alabama Rules of Criminal Procedure.6\\n3. Section 1 provides, “That all men are equally free and independent; that they are endowed by their Creator with certain inalienable rights; that among these are life, liberty and the pursuit of happiness.”\\nAla. Const. Similar to their interpretation of state due-process rights in light of federal due-process rights, Alabama courts have also frequently interpreted the Alabama Constitution’s right to counsel in light of the federal right to counsel under the Sixth Amendment. The parties ask this federal court to declare that, under the current status of the law, the constitutional\\n10\\n\\n\\x0cprinciples set out in Bearden v. Georgia, 461 U.S. 660 (1983), regarding incarceration for non-payment, and Turner v. Rogers, --- U.S. ---, 131 S. Ct. 2507 (2011), regarding notice, apply in municipal-court proceedings, and that, to the extent applicable in a particular case, the judges of the Montgomery Municipal Court are legally required to follow them.\\n',\n",
       "  \"LEVEL DEGREE PLEA DISPOSITION DISPOSITION DATE\\n\\nEVENTS DATE 8/21/20138:00AM 3/23/20108:06AM 2/1/20108:O0AM 1O/19/2309B:0OM 716/20098,00 AM 6/8/2009 8;00 AM 5/25/20098:OOAM\\n\\nEVENT JAIL JAIL TP-LOOKUP JAIL DAILY DAILY NON-COURTTRAFFIC\\n\\nJUDGE WESTRY, MILTON J MUNICI PAL JUDGE MUNICIPAL JUDGE MUNICIPAL JUDGE MUNICIPAL JUDGE MUNICIPALJ.JDGE MUNICIPAL JUDGE\\n\\nJLOCATiON.ESULT\\n\\nWJNCOURTR0OM\\n\\nMAI N COURTROOM\\n\\nMAINCOURTROOM\\n\\nCONT\\n\\nWJNCOUTROOM\\n\\nCONT\\n\\nMAIN COURTROOM\\n\\nMAINCOURTROOM\\n\\n--\\n\\nMAIN COURTROOM\\n\\nCOHT CONT CONT\\n\\nHISTORY NUMBER\\n\\nICHARGE. (32.7A-16(1))\\n\\n- LEVEL DEGREE PLEA DISPOSITION GUIL1Y\\n\\nDISPOSON DATE 03109120!2\\n\\nEVENTS\\n\\nDATEIEVENT\\n\\n8/2112013800AM\\n\\nJAIL\\n\\n3/23I20108:00M\\n\\nJAIL\\n\\n2/1/2010 8:00 AM\\n\\nTP-LOOKUP\\n\\n10119120098 ODAM\\n\\nJAIL\\n\\n7/15/20098 00 AM\\n\\nDAILY\\n\\n6/8/2009 8:00 NA\\n\\nDAILY\\n\\n5/25/20098:00 AM DAiLY\\n\\n7/6/2006 8:00 AM\\n\\n- DAILY\\n\\nfJUDGE WESTR' MILTON MUNICIPAL JUDGE MUNICIPAL JUDGE MUNICIPAL JUDGE MUNICIPAL JUDGE MUN1CIPAL JUDGE MUNICIPAL JUDGE MUNICIPAL JUDGE\\n\\nILOCATION MAIN COURTROOM MAIN COURTROOM MAIN COURTROOM MAIN COURTROOM MAIN COURTROOM MAIN COURTROOM MAIN COURTROOM MAIN COURTROOM\\n\\n,]ESIJLT\\nCANCELLED CONT COPIT CONT CONT CONI' CONT\\n\\nCASE HISTORY CASE NUTFHARGE DESCRIPTION\\nCASE DOCKETS\\n\\nICASE STATUS This COurt has jurisdiction of Petitioner's claim for declaratory relief under the Declaratory Judgment Act, Ala. Code § 6-6-222, and 42 U.S.C. § 1983, as Petitioner asks that this Court declare that the order and practice of the Municipal Court violates Alabama law and the Alabama and U.S. Constitutions. Should the order of the Municipal Court be quashed or declared to be in violation of Alabama law and the U.S. and Alabama Constitutions because of the Municipal Court's failure to make a meaningful inquiry into Petitioner's inability to pay and her indigency, thereby subjecting her to incarceration because of her inability to pay in violation of the equal protection and due process clauses? 10/1912009 Hearing Type changed from D to J.\\n\\n10/19/2009 Report -Submitted: ALIAS WI\\n\\n6/29(2009 Court date/tine: 07/002009 - 08:30.\\n\\n5/13fl009 Case Statusentered as P. 5/1312009 Hearing Type entered as V. 5/1312009 Courtdate/tirr: 06/08/2009 - 08:30.\\n\\n2'2\\n\\n\\x0c8/28/13\\n\\nCase 2:13-cv-00732-MHT-TFM Document 1-2 Filed 10/04/13 Page 18 of 31\\n2008TRT029308 - CITY OF MONTGOMERY 'es.\"]}"
      ]
     },
     "execution_count": 24,
     "metadata": {},
     "output_type": "execute_result"
    }
   ],
   "source": [
    "json.load(open(\"extracted.txt\", \"r\"))"
   ]
  }
 ],
 "metadata": {
  "kernelspec": {
   "display_name": "facilex_caselaw",
   "language": "python",
   "name": "python3"
  },
  "language_info": {
   "codemirror_mode": {
    "name": "ipython",
    "version": 3
   },
   "file_extension": ".py",
   "mimetype": "text/x-python",
   "name": "python",
   "nbconvert_exporter": "python",
   "pygments_lexer": "ipython3",
   "version": "3.11.5"
  }
 },
 "nbformat": 4,
 "nbformat_minor": 2
}
