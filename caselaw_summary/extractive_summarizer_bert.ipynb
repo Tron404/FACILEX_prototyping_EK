{
 "cells": [
  {
   "cell_type": "code",
   "execution_count": null,
   "metadata": {},
   "outputs": [],
   "source": [
    "from datasets import load_dataset\n",
    "import numpy as np\n",
    "\n",
    "multi_lexsum = load_dataset(\"allenai/multi_lexsum\", name=\"v20230518\")\n",
    "modified_dataset = multi_lexsum[\"test\"].filter(lambda x: x[\"summary/short\"] != None)"
   ]
  },
  {
   "cell_type": "code",
   "execution_count": null,
   "metadata": {},
   "outputs": [],
   "source": [
    "import tiktoken\n",
    "import torch\n",
    "\n",
    "import spacy\n",
    "\n",
    "from tqdm import tqdm\n",
    "\n",
    "# To get the tokeniser corresponding to a specific model in the OpenAI API:\n",
    "tokenizer = tiktoken.encoding_for_model(\"gpt-3.5\")\n",
    "device = torch.device(\"cuda\" if torch.cuda.is_available() else \"cpu\")\n",
    "nlp = spacy.load(\"en_core_web_sm\")\n",
    "nlp.max_length = 3_000_000\n"
   ]
  },
  {
   "cell_type": "code",
   "execution_count": 3,
   "metadata": {},
   "outputs": [],
   "source": [
    "from summarizer import Summarizer\n",
    "\n",
    "# from summarizer.sbert import SBertSummarizer\n",
    "# model_summ = SBertSummarizer(\"paraphrase-MiniLM-L6-v2\")\n",
    "\n",
    "model_summ = Summarizer(\"distilbert-base-uncased\", hidden_concat = True, hidden = [-1, -2], gpu_id = 0)"
   ]
  },
  {
   "cell_type": "code",
   "execution_count": 4,
   "metadata": {},
   "outputs": [],
   "source": [
    "import warnings\n",
    "\n",
    "warnings.filterwarnings(\"ignore\")\n",
    "\n",
    "def get_extractive_summary(doc, limit_sentences = 5):\n",
    "    return model_summ(doc, use_first = False, return_as_list = True, num_sentences = limit_sentences) "
   ]
  },
  {
   "cell_type": "code",
   "execution_count": 5,
   "metadata": {},
   "outputs": [],
   "source": [
    "from collections import defaultdict\n",
    "\n",
    "np.random.seed(42)\n",
    "# build in layers, from smallest number of doc types to largest\n",
    "def select_docs(docket, docket_metadata, limit_docket_docs = 10):\n",
    "    doc_types = defaultdict(list)\n",
    "    for doc, doc_type in zip(docket, docket_metadata[\"doc_type\"]):\n",
    "        doc_types[doc_type].append(doc)\n",
    "\n",
    "\n",
    "    # first pass, add at least 1 doc type \n",
    "    limit_counter = 0\n",
    "    docs = []\n",
    "    aux = doc_types.copy()\n",
    "    for doc_type, documents in doc_types.items():\n",
    "        if len(documents) == 1:\n",
    "            docs.append(documents[0])\n",
    "            aux.pop(doc_type)\n",
    "        else:\n",
    "            random_idx = np.random.randint(0, len(documents))\n",
    "            docs.append(documents[random_idx])\n",
    "            documents.pop(random_idx)\n",
    "        limit_counter += 1\n",
    "\n",
    "    while limit_counter < limit_docket_docs and aux.keys():\n",
    "        # compute softmax prob weights to perform weighted sampling, by choosing least present documents preponderentely\n",
    "        prob_weights = [1/len(documents) for documents in aux.values()]\n",
    "        prob_weights = np.asarray(prob_weights)/np.sum(prob_weights)\n",
    "        random_key = np.random.choice(list(aux.keys()), p = prob_weights)\n",
    "\n",
    "        # uniform sampling across documents from the chosen key\n",
    "        random_idx = np.random.randint(0, len(aux[random_key]))\n",
    "        docs.append(aux[random_key][random_idx])\n",
    "\n",
    "        # remove doc so it won't be present in future sampling\n",
    "        aux[random_key].pop(random_idx)\n",
    "\n",
    "        # if there are no more documents to this key, remove the key entirely\n",
    "        if len(aux[random_key]) == 0:\n",
    "            aux.pop(random_key)\n",
    "\n",
    "        limit_counter += 1\n",
    "\n",
    "    return docs"
   ]
  },
  {
   "cell_type": "code",
   "execution_count": 6,
   "metadata": {},
   "outputs": [
    {
     "name": "stderr",
     "output_type": "stream",
     "text": [
      "100%|██████████| 616/616 [36:16<00:00,  3.53s/it]\n"
     ]
    }
   ],
   "source": [
    "import json\n",
    "import os\n",
    "\n",
    "limit_docket = len(modified_dataset)\n",
    "limit_docket_docs = 10\n",
    "iterator = zip(modified_dataset[\"sources\"][:limit_docket], modified_dataset[\"sources_metadata\"][:limit_docket])\n",
    "path = f\"extracted_sums/extracted_sums_json_{'random_selection'}_bert\"\n",
    "for docket_id, (docket, docket_metadata) in enumerate(tqdm(iterator, total = limit_docket)):\n",
    "    if f\"{docket_id}.json\" in os.listdir(path):\n",
    "        continue\n",
    "    \n",
    "    documents = select_docs(docket, docket_metadata, limit_docket_docs = limit_docket_docs)\n",
    "\n",
    "    summaries = []\n",
    "    for doc in documents:\n",
    "        summary_aux = get_extractive_summary(doc, limit_sentences = 5)\n",
    "        summaries.append(summary_aux)\n",
    "    json.dump(summaries, open(f\"extracted_sums/extracted_sums_json_{'random_selection'}_bert/{docket_id}.json\", \"w\"), indent = 2)"
   ]
  }
 ],
 "metadata": {
  "kernelspec": {
   "display_name": "facilex_caselaw",
   "language": "python",
   "name": "python3"
  },
  "language_info": {
   "codemirror_mode": {
    "name": "ipython",
    "version": 3
   },
   "file_extension": ".py",
   "mimetype": "text/x-python",
   "name": "python",
   "nbconvert_exporter": "python",
   "pygments_lexer": "ipython3",
   "version": "3.11.5"
  }
 },
 "nbformat": 4,
 "nbformat_minor": 2
}
