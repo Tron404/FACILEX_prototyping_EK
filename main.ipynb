{
 "cells": [
  {
   "cell_type": "code",
   "execution_count": 4,
   "metadata": {},
   "outputs": [
    {
     "ename": "ImportError",
     "evalue": "cannot import name 'ChatConf' from 'libre_chat' (k:\\Apps\\Anaconda3\\envs\\facilex\\Lib\\site-packages\\libre_chat\\__init__.py)",
     "output_type": "error",
     "traceback": [
      "\u001b[1;31m---------------------------------------------------------------------------\u001b[0m",
      "\u001b[1;31mImportError\u001b[0m                               Traceback (most recent call last)",
      "\u001b[1;32mc:\\Users\\Eduard\\Desktop\\FACILEX_prototyping_EK\\main.ipynb Cell 1\u001b[0m line \u001b[0;36m4\n\u001b[0;32m      <a href='vscode-notebook-cell:/c%3A/Users/Eduard/Desktop/FACILEX_prototyping_EK/main.ipynb#W0sZmlsZQ%3D%3D?line=0'>1</a>\u001b[0m \u001b[39mimport\u001b[39;00m \u001b[39mlogging\u001b[39;00m\n\u001b[0;32m      <a href='vscode-notebook-cell:/c%3A/Users/Eduard/Desktop/FACILEX_prototyping_EK/main.ipynb#W0sZmlsZQ%3D%3D?line=2'>3</a>\u001b[0m \u001b[39mimport\u001b[39;00m \u001b[39muvicorn\u001b[39;00m\n\u001b[1;32m----> <a href='vscode-notebook-cell:/c%3A/Users/Eduard/Desktop/FACILEX_prototyping_EK/main.ipynb#W0sZmlsZQ%3D%3D?line=3'>4</a>\u001b[0m \u001b[39mfrom\u001b[39;00m \u001b[39mlibre_chat\u001b[39;00m \u001b[39mimport\u001b[39;00m ChatConf, ChatEndpoint, Llm\n\u001b[0;32m      <a href='vscode-notebook-cell:/c%3A/Users/Eduard/Desktop/FACILEX_prototyping_EK/main.ipynb#W0sZmlsZQ%3D%3D?line=5'>6</a>\u001b[0m logging\u001b[39m.\u001b[39mbasicConfig(level\u001b[39m=\u001b[39mlogging\u001b[39m.\u001b[39mgetLevelName(\u001b[39m\"\u001b[39m\u001b[39mINFO\u001b[39m\u001b[39m\"\u001b[39m))\n\u001b[0;32m      <a href='vscode-notebook-cell:/c%3A/Users/Eduard/Desktop/FACILEX_prototyping_EK/main.ipynb#W0sZmlsZQ%3D%3D?line=6'>7</a>\u001b[0m conf \u001b[39m=\u001b[39m ChatConf(\n\u001b[0;32m      <a href='vscode-notebook-cell:/c%3A/Users/Eduard/Desktop/FACILEX_prototyping_EK/main.ipynb#W0sZmlsZQ%3D%3D?line=7'>8</a>\u001b[0m     model_path\u001b[39m=\u001b[39m\u001b[39m\"\u001b[39m\u001b[39mmodels/llama-2-7b-chat.ggmlv3.q3_K_L.bin\u001b[39m\u001b[39m\"\u001b[39m,\n\u001b[0;32m      <a href='vscode-notebook-cell:/c%3A/Users/Eduard/Desktop/FACILEX_prototyping_EK/main.ipynb#W0sZmlsZQ%3D%3D?line=8'>9</a>\u001b[0m     vector_path\u001b[39m=\u001b[39m\u001b[39mNone\u001b[39;00m\n\u001b[0;32m     <a href='vscode-notebook-cell:/c%3A/Users/Eduard/Desktop/FACILEX_prototyping_EK/main.ipynb#W0sZmlsZQ%3D%3D?line=9'>10</a>\u001b[0m )\n",
      "\u001b[1;31mImportError\u001b[0m: cannot import name 'ChatConf' from 'libre_chat' (k:\\Apps\\Anaconda3\\envs\\facilex\\Lib\\site-packages\\libre_chat\\__init__.py)"
     ]
    }
   ],
   "source": [
    "# import logging\n",
    "\n",
    "# import uvicorn\n",
    "# from libre_chat import ChatConf, ChatEndpoint, Llm\n",
    "\n",
    "# logging.basicConfig(level=logging.getLevelName(\"INFO\"))\n",
    "# conf = ChatConf(\n",
    "#     model_path=\"models/llama-2-7b-chat.ggmlv3.q3_K_L.bin\",\n",
    "#     vector_path=None\n",
    "# )\n",
    "# llm = Llm(conf=conf)\n",
    "# print(llm.query(\"What is the capital of the Netherlands?\"))"
   ]
  },
  {
   "cell_type": "code",
   "execution_count": 5,
   "metadata": {},
   "outputs": [],
   "source": [
    "import os\n",
    "import json\n",
    "\n",
    "os.environ[\"OPENAI_API_KEY\"] = json.load(open(\"keys.json\", \"rb\"))[\"OPENAI_KEY\"]"
   ]
  }
 ],
 "metadata": {
  "kernelspec": {
   "display_name": "facilex",
   "language": "python",
   "name": "python3"
  },
  "language_info": {
   "codemirror_mode": {
    "name": "ipython",
    "version": 3
   },
   "file_extension": ".py",
   "mimetype": "text/x-python",
   "name": "python",
   "nbconvert_exporter": "python",
   "pygments_lexer": "ipython3",
   "version": "3.11.5"
  }
 },
 "nbformat": 4,
 "nbformat_minor": 2
}
