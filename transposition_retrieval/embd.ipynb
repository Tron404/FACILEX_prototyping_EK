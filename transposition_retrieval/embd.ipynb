{
 "cells": [
  {
   "cell_type": "code",
   "execution_count": 10,
   "metadata": {},
   "outputs": [
    {
     "name": "stdout",
     "output_type": "stream",
     "text": [
      "cuda\n"
     ]
    }
   ],
   "source": [
    "import ijson\n",
    "import torch\n",
    "import numpy as np\n",
    "import pandas as pd\n",
    "import pickle\n",
    "import sys\n",
    "from tqdm import tqdm\n",
    "from sentence_transformers import SentenceTransformer\n",
    "\n",
    "device = torch.device(\"cuda\" if torch.cuda.is_available() else \"cpu\")\n",
    "print(device)\n",
    "\n",
    "def read_data(path, country):\n",
    "    corpus = []\n",
    "    limit = 0\n",
    "    if \"corpus\" in path:\n",
    "        with open(path, 'r', encoding='utf-8') as f:\n",
    "            parser = ijson.parse(f)\n",
    "            aux = {\"country\": \"\", \"label\": \"\", \"text\": \"\"}\n",
    "            for prefix, event, value in tqdm(parser):\n",
    "                prefix = \".\".join(prefix.split(\".\")[1:])\n",
    "                if (prefix, event) == (\"labels.item\", \"string\"):\n",
    "                    aux[\"label\"] = value\n",
    "                elif (prefix, event) == (\"text\", \"string\"):\n",
    "                    aux[\"text\"] = value\n",
    "                elif (prefix, event) == (\"country\", \"string\"):\n",
    "                    aux[\"country\"] = value\n",
    "\n",
    "                if aux[\"country\"] == country and aux[\"text\"] != \"\" and aux[\"label\"] != \"\":\n",
    "                    corpus.append(aux)\n",
    "                    aux = {\"country\": \"\", \"label\": \"\", \"text\": \"\"}\n",
    "                    limit += 1\n",
    "    else:\n",
    "        with open(path, 'r', encoding='utf-8') as f:\n",
    "            parser = ijson.parse(f)\n",
    "            aux = {\"country\": \"\", \"label\": \"\", \"text\": \"\"}\n",
    "            for prefix, event, value in parser:\n",
    "                prefix = \".\".join(prefix.split(\".\")[1:])\n",
    "                if (prefix, event) == (\"label\", \"string\"):\n",
    "                    aux[\"label\"] = value\n",
    "                elif (prefix, event) == (\"text\", \"string\"):\n",
    "                    aux[\"text\"] = value\n",
    "                elif (prefix, event) == (\"country\", \"string\"):\n",
    "                    aux[\"country\"] = value\n",
    "\n",
    "                if aux[\"country\"] == country and aux[\"text\"] != \"\" and aux[\"label\"] != \"\":\n",
    "                    corpus.append(aux)\n",
    "                    aux = {\"country\": \"\", \"label\": \"\", \"text\": \"\"}\n",
    "                    limit += 1\n",
    "\n",
    "    return corpus"
   ]
  },
  {
   "cell_type": "code",
   "execution_count": 11,
   "metadata": {},
   "outputs": [
    {
     "name": "stderr",
     "output_type": "stream",
     "text": [
      "112897835it [01:01, 1845314.30it/s]\n",
      "112897835it [01:01, 1832561.23it/s]\n"
     ]
    }
   ],
   "source": [
    "models = [\"distiluse-base-multilingual-cased-v2\", \"paraphrase-multilingual-mpnet-base-v2\"]\n",
    "model_map = {\"distiluse-base-multilingual-cased-v2\": \"distiluse\", \"paraphrase-multilingual-mpnet-base-v2\": \"mpnet\"}\n",
    "\n",
    "for model_name in models:\n",
    "    model = SentenceTransformer(\"../models/\" + model_name).to(device)\n",
    "\n",
    "    data = read_data(\"data/ML-dataset/corpus.json\", \"ITA\")\n",
    "    data = pd.DataFrame(data)\n",
    "    data[\"text\"] = data[\"text\"].apply(model.encode)\n",
    "\n",
    "    data.to_pickle(f\"embeddings/{model_map[model_name]}_corpus.pickle\")"
   ]
  }
 ],
 "metadata": {
  "kernelspec": {
   "display_name": "facilex_caselaw",
   "language": "python",
   "name": "python3"
  },
  "language_info": {
   "codemirror_mode": {
    "name": "ipython",
    "version": 3
   },
   "file_extension": ".py",
   "mimetype": "text/x-python",
   "name": "python",
   "nbconvert_exporter": "python",
   "pygments_lexer": "ipython3",
   "version": "3.11.5"
  }
 },
 "nbformat": 4,
 "nbformat_minor": 2
}
