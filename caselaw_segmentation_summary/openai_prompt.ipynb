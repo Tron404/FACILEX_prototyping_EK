{
 "cells": [
  {
   "cell_type": "code",
   "execution_count": 1,
   "metadata": {},
   "outputs": [
    {
     "name": "stdout",
     "output_type": "stream",
     "text": [
      "ChatCompletionMessage(content='National Legislation: \"1.The execution of the European arrest warrant may not, under any circumstances, entail a violation either of the supreme principles of the Italian constitutional order.\"\\nEuropean Legislation: \"3. This Framework Decision shall not have the effect of modifying the obligation to respect fundamental rights and fundamental legal principles as enshrined in Article 6 of the Treaty on European Union.\"\\nType of transposition: explicit transposition', role='assistant', function_call=None, tool_calls=None)\n"
     ]
    }
   ],
   "source": [
    "from openai import OpenAI\n",
    "from env_utils import load_env_from_file\n",
    "\n",
    "load_env_from_file(\".\")\n",
    "client = OpenAI()\n",
    "\n",
    "system_prompt = \"\"\"\n",
    "\n",
    "You are a legal assistant, tasked with determining whether 2 given inputs are transpositions of each other.\n",
    "In your output, you have to respect the following guidelines:\n",
    "1) In this task, there are several types of transpositions:\n",
    "- explicit transpositions\n",
    "- indirect transpositions\n",
    "- no available transpositions\n",
    "2) You should consider the wording of the given inputs, and consider how they differ or look alike\n",
    "3) The input will be formatted as:\n",
    "European Legislation: \"x\"\n",
    "National Legislation: \"x\"\n",
    "4) The format of your output has to be this way:\n",
    "National Legislation: \"x\"\n",
    "European Legislation: \"x\"\n",
    "Type of transposition: \"x\"\n",
    "\n",
    "Where x between quotation marks is the string of text.\n",
    "\n",
    "As an example of what you are expected to provide:\n",
    "European Legislation: \"1. The issuing Member State shall deduct all periods of detention arising from the execution of a European arrest warrant from the total period of detention to be served in the issuing Member State as a result of a custodial sentence or detention order being passed.\"\n",
    "National Legislation: \"Section V\n",
    "\n",
    "Effects of Surrender\n",
    "\n",
    "Deduction of Period of Detention Served in Executing Member State\"\n",
    "Output: \"explicit transposition\"\n",
    "\"\"\"\n",
    "\n",
    "european_legislation = \"\"\" \"3. This Framework Decision shall not have the effect of modifying the obligation to respect fundamental rights and fundamental legal principles as enshrined in Article 6 of the Treaty on European Union.\" \"\"\"\n",
    "national_legislation = \"\"\" \"1.The execution of the European arrest warrant may not, under any circumstances, entail a violation either of the supreme principles of the Italian constitutional orde\" \"\"\"\n",
    "\n",
    "user_input = f\"\"\"\n",
    "European Legislation: {european_legislation}\n",
    "National Legislation: {national_legislation}\n",
    "\"\"\"\n",
    "\n",
    "completion = client.chat.completions.create(\n",
    "  model=\"gpt-3.5-turbo\",\n",
    "  messages=[\n",
    "    {\"role\": \"system\", \"content\": system_prompt},\n",
    "    {\"role\": \"user\", \"content\": user_input}\n",
    "  ]\n",
    ")\n",
    "\n",
    "print(completion.choices[0].message.content)"
   ]
  }
 ],
 "metadata": {
  "kernelspec": {
   "display_name": "facilex_caselaw",
   "language": "python",
   "name": "python3"
  },
  "language_info": {
   "codemirror_mode": {
    "name": "ipython",
    "version": 3
   },
   "file_extension": ".py",
   "mimetype": "text/x-python",
   "name": "python",
   "nbconvert_exporter": "python",
   "pygments_lexer": "ipython3",
   "version": "3.11.5"
  }
 },
 "nbformat": 4,
 "nbformat_minor": 2
}
