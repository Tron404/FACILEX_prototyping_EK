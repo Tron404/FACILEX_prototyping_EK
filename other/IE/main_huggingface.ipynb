{
 "cells": [
  {
   "cell_type": "code",
   "execution_count": 1,
   "metadata": {},
   "outputs": [],
   "source": [
    "import os\n",
    "import json\n",
    "from langchain import PromptTemplate, HuggingFaceHub, LLMChain\n",
    "\n",
    "os.environ[\"HUGGINGFACEHUB_API_TOKEN\"] = json.load(open(\"keys.json\", \"rb\"))[\"huggingface\"]"
   ]
  },
  {
   "cell_type": "code",
   "execution_count": 28,
   "metadata": {},
   "outputs": [],
   "source": [
    "template = \"\"\"\n",
    "Question: {question}\n",
    "\n",
    "Answer:\n",
    "\"\"\"\n",
    "\n",
    "model = \"bigscience/bloom\"\n",
    "model = \"openlm-research/open_llama_3b_v2\"\n",
    "\n",
    "prompt = PromptTemplate(template = template, input_variables = [\"question\"])\n",
    "llm = HuggingFaceHub(repo_id = model, model_kwargs = {\"temperature\": 1e-10})\n",
    "llm_chain = LLMChain(llm = llm, verbose = True, prompt = prompt)\n",
    "question = \"What is the capital of Romania?\""
   ]
  },
  {
   "cell_type": "code",
   "execution_count": 29,
   "metadata": {},
   "outputs": [
    {
     "name": "stdout",
     "output_type": "stream",
     "text": [
      "\n",
      "\n",
      "\u001b[1m> Entering new LLMChain chain...\u001b[0m\n",
      "\u001b[32;1m\u001b[1;3mPrompt after formatting:\n",
      "\u001b[32;1m\u001b[1;3m\n",
      "Question: What is the capital of Romania?\n",
      "\n",
      "Answer:\n",
      "\u001b[0m\u001b[0m\n",
      "\n",
      "\u001b[1m> Finished chain.\u001b[0m\n",
      "\n"
     ]
    }
   ],
   "source": [
    "print(llm_chain.run(question))"
   ]
  }
 ],
 "metadata": {
  "kernelspec": {
   "display_name": "facilex",
   "language": "python",
   "name": "python3"
  },
  "language_info": {
   "codemirror_mode": {
    "name": "ipython",
    "version": 3
   },
   "file_extension": ".py",
   "mimetype": "text/x-python",
   "name": "python",
   "nbconvert_exporter": "python",
   "pygments_lexer": "ipython3",
   "version": "3.11.5"
  }
 },
 "nbformat": 4,
 "nbformat_minor": 2
}
