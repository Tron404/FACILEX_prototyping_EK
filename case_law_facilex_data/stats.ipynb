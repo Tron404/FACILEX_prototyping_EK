{
 "cells": [
  {
   "cell_type": "code",
   "execution_count": 30,
   "metadata": {},
   "outputs": [
    {
     "name": "stdout",
     "output_type": "stream",
     "text": [
      "There are 270 total cases\n"
     ]
    }
   ],
   "source": [
    "import json\n",
    "import os\n",
    "import pandas as pd\n",
    "\n",
    "path_data = \"caselaw/\"\n",
    "\n",
    "main_attributes = json.load(open(path_data + \"2301.json\", \"rb\"))\n",
    "\n",
    "data = {key: [] for key in main_attributes}\n",
    "\n",
    "for case in os.listdir(path_data):\n",
    "    file = json.load(open(path_data + case, \"rb\"))\n",
    "    for attribute in data.keys():\n",
    "        data[attribute].append(file[attribute])\n",
    "    \n",
    "df = pd.DataFrame(data)\n",
    "print(f\"There are {len(os.listdir(path_data))} total cases\")\n"
   ]
  },
  {
   "cell_type": "code",
   "execution_count": 31,
   "metadata": {},
   "outputs": [
    {
     "data": {
      "text/html": [
       "<div>\n",
       "<style scoped>\n",
       "    .dataframe tbody tr th:only-of-type {\n",
       "        vertical-align: middle;\n",
       "    }\n",
       "\n",
       "    .dataframe tbody tr th {\n",
       "        vertical-align: top;\n",
       "    }\n",
       "\n",
       "    .dataframe thead th {\n",
       "        text-align: right;\n",
       "    }\n",
       "</style>\n",
       "<table border=\"1\" class=\"dataframe\">\n",
       "  <thead>\n",
       "    <tr style=\"text-align: right;\">\n",
       "      <th></th>\n",
       "      <th>title</th>\n",
       "      <th>court</th>\n",
       "      <th>courtEng</th>\n",
       "      <th>dateOfDocument</th>\n",
       "      <th>jurisdiction</th>\n",
       "      <th>keywords</th>\n",
       "      <th>summary</th>\n",
       "      <th>summaryEn</th>\n",
       "      <th>language</th>\n",
       "      <th>decisionType</th>\n",
       "      <th>...</th>\n",
       "      <th>nationalCaseLawRecords</th>\n",
       "      <th>caseHistory</th>\n",
       "      <th>ecthrCaseLawRecords</th>\n",
       "      <th>eurovoc</th>\n",
       "      <th>facilexOntology</th>\n",
       "      <th>nationalIdentifier</th>\n",
       "      <th>source</th>\n",
       "      <th>sourceUrl</th>\n",
       "      <th>text</th>\n",
       "      <th>classifiers</th>\n",
       "    </tr>\n",
       "  </thead>\n",
       "  <tbody>\n",
       "    <tr>\n",
       "      <th>0</th>\n",
       "      <td>Wyrok Sądu Najwyższego z dnia 4 lipca 2013 r. ...</td>\n",
       "      <td>Sąd Najwyższy</td>\n",
       "      <td>Supreme Court</td>\n",
       "      <td>2013-07-03T22:00:00Z</td>\n",
       "      <td>{'label': 'Poland', 'code': 'PL'}</td>\n",
       "      <td>[detention on remand, FW Decision 2002/584 (EAW)]</td>\n",
       "      <td>&lt;p&gt;Stosowanie tymczasowego aresztowania w toku...</td>\n",
       "      <td>&lt;p&gt;The application of detention on remand in t...</td>\n",
       "      <td>{'label': 'Polish', 'code': 'PL'}</td>\n",
       "      <td>{'label': 'Judgment', 'code': 'J'}</td>\n",
       "      <td>...</td>\n",
       "      <td>[]</td>\n",
       "      <td>[]</td>\n",
       "      <td>[]</td>\n",
       "      <td>[]</td>\n",
       "      <td></td>\n",
       "      <td>III KK 21/13</td>\n",
       "      <td>Supreme Court Database</td>\n",
       "      <td>http://www.sn.pl/orzecznictwo/SitePages/baza_o...</td>\n",
       "      <td></td>\n",
       "      <td>[Detention conditions]</td>\n",
       "    </tr>\n",
       "    <tr>\n",
       "      <th>1</th>\n",
       "      <td>Решение № 850 от 10.03.2022 г. на СРС по ч. н....</td>\n",
       "      <td>Софийски районен съд</td>\n",
       "      <td>Sofia Regional Court</td>\n",
       "      <td>2023-03-09T22:00:00Z</td>\n",
       "      <td>{'label': 'Bulgaria', 'code': 'BG'}</td>\n",
       "      <td>[Directive 2014/41 (EIO), banking secrecy, exe...</td>\n",
       "      <td>&lt;p class=\"ql-align-justify\"&gt;Производството е о...</td>\n",
       "      <td>&lt;p class=\"ql-align-justify\"&gt;The case was initi...</td>\n",
       "      <td>{'label': 'Bulgarian', 'code': 'BG'}</td>\n",
       "      <td>{'label': 'Judgment', 'code': 'J'}</td>\n",
       "      <td>...</td>\n",
       "      <td>[]</td>\n",
       "      <td>[]</td>\n",
       "      <td>[]</td>\n",
       "      <td>[{'label': 'judicial cooperation in criminal m...</td>\n",
       "      <td></td>\n",
       "      <td></td>\n",
       "      <td>ЦУБИПСА</td>\n",
       "      <td>https://legalacts.justice.bg/Search/GetActCont...</td>\n",
       "      <td></td>\n",
       "      <td>[Financial investigations]</td>\n",
       "    </tr>\n",
       "    <tr>\n",
       "      <th>2</th>\n",
       "      <td>Cass. Pen. sez. VI, 28/10/2022, no. 41102</td>\n",
       "      <td>Corte di Cassazione</td>\n",
       "      <td>Court of cassation</td>\n",
       "      <td>2022-10-27T22:00:00Z</td>\n",
       "      <td>{'label': 'Italy', 'code': 'IT'}</td>\n",
       "      <td>[minor, FW Decision 2002/584 (EAW)]</td>\n",
       "      <td>&lt;p&gt;In tema di mandato di arresto europeo, è on...</td>\n",
       "      <td>&lt;p&gt;With regard to the European arrest warrant,...</td>\n",
       "      <td>{'label': 'Italian', 'code': 'IT'}</td>\n",
       "      <td>{'label': 'Judgment', 'code': 'J'}</td>\n",
       "      <td>...</td>\n",
       "      <td>[]</td>\n",
       "      <td>[]</td>\n",
       "      <td>[]</td>\n",
       "      <td>[]</td>\n",
       "      <td></td>\n",
       "      <td></td>\n",
       "      <td></td>\n",
       "      <td></td>\n",
       "      <td></td>\n",
       "      <td>[Detention conditions]</td>\n",
       "    </tr>\n",
       "    <tr>\n",
       "      <th>3</th>\n",
       "      <td>TRE, 18.11.2010, ECLI:PT:TRE:2010:176.10.9YREV...</td>\n",
       "      <td>Tribunal da Relação de Évora</td>\n",
       "      <td>High Court of Évora</td>\n",
       "      <td>2010-11-18T00:00:00Z</td>\n",
       "      <td>{'label': 'Portugal', 'code': 'PT'}</td>\n",
       "      <td>[FW Decision 2002/584 (EAW), Fundamental rights]</td>\n",
       "      <td></td>\n",
       "      <td>&lt;p&gt;&lt;span style=\"color: black;\"&gt;A German citize...</td>\n",
       "      <td>{'label': 'Portuguese', 'code': 'PT'}</td>\n",
       "      <td>{'label': 'Judgment', 'code': 'J'}</td>\n",
       "      <td>...</td>\n",
       "      <td>[{'title': 'STJ, 25-03-2010, Proc. n.º 76/10.2...</td>\n",
       "      <td>[{'title': 'ECLI:PT:STJ:2010:176.10.9YREVR.S1....</td>\n",
       "      <td>[]</td>\n",
       "      <td>[{'label': 'criminal law', 'code': '573'}]</td>\n",
       "      <td></td>\n",
       "      <td>176/10.9YREVR</td>\n",
       "      <td>Conselho Superior da Magistratura</td>\n",
       "      <td>https://jurisprudencia.csm.org.pt/ecli/ECLI:PT...</td>\n",
       "      <td></td>\n",
       "      <td>[Necessity and proportionality]</td>\n",
       "    </tr>\n",
       "    <tr>\n",
       "      <th>4</th>\n",
       "      <td>Решение № 156 от 17.05.2021 г. на САС по в. ч....</td>\n",
       "      <td>Апелативен съд - София</td>\n",
       "      <td>Appelate Court - Sofia</td>\n",
       "      <td>2021-05-16T21:00:00Z</td>\n",
       "      <td>{'label': 'Bulgaria', 'code': 'BG'}</td>\n",
       "      <td>[FW Decision 2002/584 (EAW), subsequent surren...</td>\n",
       "      <td>&lt;p class=\"ql-align-justify\"&gt;\\t&lt;span style=\"col...</td>\n",
       "      <td>&lt;p class=\"ql-align-justify\"&gt;\\t&lt;span style=\"col...</td>\n",
       "      <td>{'label': 'Bulgarian', 'code': 'BG'}</td>\n",
       "      <td>{'label': 'Judgment', 'code': 'J'}</td>\n",
       "      <td>...</td>\n",
       "      <td>[{'title': 'Тълкувателно решение № 2 от 21.10....</td>\n",
       "      <td>[{'title': 'Решение № 480 от 2.12.2019 г. на С...</td>\n",
       "      <td>[]</td>\n",
       "      <td>[{'label': 'European arrest warrant', 'code': ...</td>\n",
       "      <td></td>\n",
       "      <td></td>\n",
       "      <td>ЦУБИПСА</td>\n",
       "      <td>https://legalacts.justice.bg/GetActContent/ECL...</td>\n",
       "      <td></td>\n",
       "      <td>[Consent to surrender, Mandatory ground for re...</td>\n",
       "    </tr>\n",
       "  </tbody>\n",
       "</table>\n",
       "<p>5 rows × 24 columns</p>\n",
       "</div>"
      ],
      "text/plain": [
       "                                               title  \\\n",
       "0  Wyrok Sądu Najwyższego z dnia 4 lipca 2013 r. ...   \n",
       "1  Решение № 850 от 10.03.2022 г. на СРС по ч. н....   \n",
       "2          Cass. Pen. sez. VI, 28/10/2022, no. 41102   \n",
       "3  TRE, 18.11.2010, ECLI:PT:TRE:2010:176.10.9YREV...   \n",
       "4  Решение № 156 от 17.05.2021 г. на САС по в. ч....   \n",
       "\n",
       "                          court                courtEng        dateOfDocument  \\\n",
       "0                Sąd Najwyższy            Supreme Court  2013-07-03T22:00:00Z   \n",
       "1          Софийски районен съд    Sofia Regional Court  2023-03-09T22:00:00Z   \n",
       "2           Corte di Cassazione      Court of cassation  2022-10-27T22:00:00Z   \n",
       "3  Tribunal da Relação de Évora     High Court of Évora  2010-11-18T00:00:00Z   \n",
       "4        Апелативен съд - София  Appelate Court - Sofia  2021-05-16T21:00:00Z   \n",
       "\n",
       "                          jurisdiction  \\\n",
       "0    {'label': 'Poland', 'code': 'PL'}   \n",
       "1  {'label': 'Bulgaria', 'code': 'BG'}   \n",
       "2     {'label': 'Italy', 'code': 'IT'}   \n",
       "3  {'label': 'Portugal', 'code': 'PT'}   \n",
       "4  {'label': 'Bulgaria', 'code': 'BG'}   \n",
       "\n",
       "                                            keywords  \\\n",
       "0  [detention on remand, FW Decision 2002/584 (EAW)]   \n",
       "1  [Directive 2014/41 (EIO), banking secrecy, exe...   \n",
       "2                [minor, FW Decision 2002/584 (EAW)]   \n",
       "3   [FW Decision 2002/584 (EAW), Fundamental rights]   \n",
       "4  [FW Decision 2002/584 (EAW), subsequent surren...   \n",
       "\n",
       "                                             summary  \\\n",
       "0  <p>Stosowanie tymczasowego aresztowania w toku...   \n",
       "1  <p class=\"ql-align-justify\">Производството е о...   \n",
       "2  <p>In tema di mandato di arresto europeo, è on...   \n",
       "3                                                      \n",
       "4  <p class=\"ql-align-justify\">\\t<span style=\"col...   \n",
       "\n",
       "                                           summaryEn  \\\n",
       "0  <p>The application of detention on remand in t...   \n",
       "1  <p class=\"ql-align-justify\">The case was initi...   \n",
       "2  <p>With regard to the European arrest warrant,...   \n",
       "3  <p><span style=\"color: black;\">A German citize...   \n",
       "4  <p class=\"ql-align-justify\">\\t<span style=\"col...   \n",
       "\n",
       "                                language                        decisionType  \\\n",
       "0      {'label': 'Polish', 'code': 'PL'}  {'label': 'Judgment', 'code': 'J'}   \n",
       "1   {'label': 'Bulgarian', 'code': 'BG'}  {'label': 'Judgment', 'code': 'J'}   \n",
       "2     {'label': 'Italian', 'code': 'IT'}  {'label': 'Judgment', 'code': 'J'}   \n",
       "3  {'label': 'Portuguese', 'code': 'PT'}  {'label': 'Judgment', 'code': 'J'}   \n",
       "4   {'label': 'Bulgarian', 'code': 'BG'}  {'label': 'Judgment', 'code': 'J'}   \n",
       "\n",
       "   ...                             nationalCaseLawRecords  \\\n",
       "0  ...                                                 []   \n",
       "1  ...                                                 []   \n",
       "2  ...                                                 []   \n",
       "3  ...  [{'title': 'STJ, 25-03-2010, Proc. n.º 76/10.2...   \n",
       "4  ...  [{'title': 'Тълкувателно решение № 2 от 21.10....   \n",
       "\n",
       "                                         caseHistory ecthrCaseLawRecords  \\\n",
       "0                                                 []                  []   \n",
       "1                                                 []                  []   \n",
       "2                                                 []                  []   \n",
       "3  [{'title': 'ECLI:PT:STJ:2010:176.10.9YREVR.S1....                  []   \n",
       "4  [{'title': 'Решение № 480 от 2.12.2019 г. на С...                  []   \n",
       "\n",
       "                                             eurovoc facilexOntology  \\\n",
       "0                                                 []                   \n",
       "1  [{'label': 'judicial cooperation in criminal m...                   \n",
       "2                                                 []                   \n",
       "3         [{'label': 'criminal law', 'code': '573'}]                   \n",
       "4  [{'label': 'European arrest warrant', 'code': ...                   \n",
       "\n",
       "  nationalIdentifier                             source  \\\n",
       "0       III KK 21/13             Supreme Court Database   \n",
       "1                                               ЦУБИПСА   \n",
       "2                                                         \n",
       "3      176/10.9YREVR  Conselho Superior da Magistratura   \n",
       "4                                               ЦУБИПСА   \n",
       "\n",
       "                                           sourceUrl text  \\\n",
       "0  http://www.sn.pl/orzecznictwo/SitePages/baza_o...        \n",
       "1  https://legalacts.justice.bg/Search/GetActCont...        \n",
       "2                                                           \n",
       "3  https://jurisprudencia.csm.org.pt/ecli/ECLI:PT...        \n",
       "4  https://legalacts.justice.bg/GetActContent/ECL...        \n",
       "\n",
       "                                         classifiers  \n",
       "0                             [Detention conditions]  \n",
       "1                         [Financial investigations]  \n",
       "2                             [Detention conditions]  \n",
       "3                    [Necessity and proportionality]  \n",
       "4  [Consent to surrender, Mandatory ground for re...  \n",
       "\n",
       "[5 rows x 24 columns]"
      ]
     },
     "execution_count": 31,
     "metadata": {},
     "output_type": "execute_result"
    }
   ],
   "source": [
    "df.head()"
   ]
  },
  {
   "cell_type": "code",
   "execution_count": 32,
   "metadata": {},
   "outputs": [
    {
     "name": "stdout",
     "output_type": "stream",
     "text": [
      "{'Bulgaria': 81, 'Portugal': 58, 'Italy': 52, 'Poland': 50, 'Germany': 25, 'Netherlands': 2, 'European Union': 2}\n"
     ]
    },
    {
     "data": {
      "image/png": "[encoded data removed]",
      "text/plain": [
       "<Waffle size 1600x900 with 1 Axes>"
      ]
     },
     "metadata": {},
     "output_type": "display_data"
    }
   ],
   "source": [
    "import matplotlib.pyplot as plt\n",
    "from pywaffle import Waffle\n",
    "\n",
    "case_count_jurisdiction = df[\"jurisdiction\"].apply(lambda x: x[\"label\"]).value_counts().to_dict()\n",
    "print(case_count_jurisdiction)\n",
    "\n",
    "a = plt.figure(figsize = (16,9), FigureClass = Waffle, values = case_count_jurisdiction, rows = 10, columns = 10, legend = {'loc': 'upper left', 'fontsize': 15, 'bbox_to_anchor': (1.05, 1), \"frameon\": False, 'labels': [f\"{k} - ({round(v/len(df) * 100, 2)}%)\" for k, v in case_count_jurisdiction.items()]})\n",
    "plt.title(\"Proportion of cases per jurisdiction\", fontsize = 20)\n",
    "plt.savefig(\"waffle_proportion.png\", transparent = True)\n",
    "plt.show()"
   ]
  },
  {
   "cell_type": "code",
   "execution_count": 33,
   "metadata": {},
   "outputs": [
    {
     "data": {
      "text/plain": [
       "[('Necessity and proportionality', 25),\n",
       " ('Non-mandatory ground for refusal (territoriality issues)', 25),\n",
       " ('Video/telephone-conference', 23),\n",
       " ('Detention conditions', 21),\n",
       " ('Confiscation', 20)]"
      ]
     },
     "execution_count": 33,
     "metadata": {},
     "output_type": "execute_result"
    }
   ],
   "source": [
    "from collections import defaultdict\n",
    "\n",
    "freq_classifiers = defaultdict(int)\n",
    "\n",
    "for classifiers in df[\"classifiers\"]:\n",
    "    if classifiers == None:\n",
    "          continue\n",
    "    for classifier in classifiers:\n",
    "            freq_classifiers[classifier] += 1\n",
    "\n",
    "freq_classifiers = dict(sorted(freq_classifiers.items(), key = lambda x: x[1], reverse = True))\n",
    "list(freq_classifiers.items())[:5]"
   ]
  },
  {
   "cell_type": "code",
   "execution_count": 34,
   "metadata": {},
   "outputs": [
    {
     "name": "stdout",
     "output_type": "stream",
     "text": [
      "249/270 21 of cases do not have the entire text body in the dataset\n",
      "42/270  of cases do not have a summary in the original language\n",
      "0 of cases do not have a summary in English\n"
     ]
    }
   ],
   "source": [
    "import numpy as np\n",
    "\n",
    "not_entire_text = len(df[df[\"text\"].replace(\"\", np.nan).isna() == True])\n",
    "not_summary = len(df[df[\"summary\"].replace(\"\", np.nan).isna() == True])\n",
    "not_summary_en = len(df[df[\"summaryEn\"].replace(\"\", np.nan).isna() == True])\n",
    "\n",
    "print(f\"{not_entire_text}/{len(df)} {len(df) - not_entire_text} of cases do not have the entire text body in the dataset\")\n",
    "print(f\"{not_summary}/{len(df)}  of cases do not have a summary in the original language\")\n",
    "print(f\"{not_summary_en} of cases do not have a summary in English\")"
   ]
  },
  {
   "cell_type": "code",
   "execution_count": 35,
   "metadata": {},
   "outputs": [
    {
     "data": {
      "text/plain": [
       "jurisdiction\n",
       "Portugal       40\n",
       "Netherlands     2\n",
       "Name: count, dtype: int64"
      ]
     },
     "execution_count": 35,
     "metadata": {},
     "output_type": "execute_result"
    }
   ],
   "source": [
    "# from which jurisdictions most of the cases are which are missing the original summary\n",
    "df[df[\"summary\"].replace(\"\", np.nan).isna() == True][\"jurisdiction\"].apply(lambda x: x[\"label\"]).value_counts()"
   ]
  },
  {
   "cell_type": "code",
   "execution_count": 36,
   "metadata": {},
   "outputs": [
    {
     "name": "stdout",
     "output_type": "stream",
     "text": [
      "jurisdiction\n",
      "Portugal    7\n",
      "Name: count, dtype: int64\n"
     ]
    }
   ],
   "source": [
    "df[\"keywords\"].apply(lambda x: len(x) if x != None else x)\n",
    "\n",
    "# cases with no keywords, and their jurisdiction\n",
    "print(df[df[\"keywords\"].isnull()][\"jurisdiction\"].apply(lambda x: x[\"label\"]).value_counts())"
   ]
  },
  {
   "cell_type": "code",
   "execution_count": 37,
   "metadata": {},
   "outputs": [
    {
     "name": "stdout",
     "output_type": "stream",
     "text": [
      "### Judgment per jurisdiction ###\n",
      "jurisdiction\n",
      "Portugal          52\n",
      "Italy             46\n",
      "Bulgaria          43\n",
      "Poland            19\n",
      "Germany            4\n",
      "Netherlands        2\n",
      "European Union     2\n",
      "Name: count, dtype: int64\n",
      "\n",
      "### Order per jurisdiction ###\n",
      "jurisdiction\n",
      "Bulgaria    37\n",
      "Germany     20\n",
      "Italy        1\n",
      "Name: count, dtype: int64\n",
      "\n",
      "### Other per jurisdiction ###\n",
      "jurisdiction\n",
      "Poland    31\n",
      "Name: count, dtype: int64\n",
      "\n",
      "### None per jurisdiction ###\n",
      "jurisdiction\n",
      "Portugal    6\n",
      "Italy       5\n",
      "Germany     1\n",
      "Bulgaria    1\n",
      "Name: count, dtype: int64\n",
      "\n"
     ]
    }
   ],
   "source": [
    "unique_decision_types = df[\"decisionType\"].apply(lambda x: x[\"label\"] if x != None else \"None\").unique()\n",
    "aux = df.copy()\n",
    "aux[\"decisionType\"] = aux[\"decisionType\"].apply(lambda x: x[\"label\"] if x != None else \"None\")\n",
    "\n",
    "# types of decisions per jurisdiction\n",
    "for decision_type in unique_decision_types:\n",
    "    print(f\"### {decision_type} per jurisdiction ###\")\n",
    "    print(aux[aux[\"decisionType\"] == decision_type][\"jurisdiction\"].apply(lambda x: x[\"label\"] if x != None else \"None\").value_counts())\n",
    "    print()"
   ]
  },
  {
   "cell_type": "code",
   "execution_count": 38,
   "metadata": {},
   "outputs": [
    {
     "data": {
      "text/plain": [
       "129"
      ]
     },
     "execution_count": 38,
     "metadata": {},
     "output_type": "execute_result"
    }
   ],
   "source": [
    "# cases that havo no eurovoc attached to them\n",
    "len(df[df[\"eurovoc\"].str.len() < 1])"
   ]
  },
  {
   "cell_type": "code",
   "execution_count": 39,
   "metadata": {},
   "outputs": [
    {
     "name": "stdout",
     "output_type": "stream",
     "text": [
      "euProvisions\n",
      "2002/584/JHA : Council Framework Decision of 13 June 2002 on the European arrest warrant and the surrender procedures between Member States - Statements made by certain Member States on the adoption of the Framework Decision                                                               111\n",
      "Not mentioned                                                                                                                                                                                                                                                                                   76\n",
      "Directive 2014/41/EU of the European Parliament and of the Council of 3 April 2014 regarding the European Investigation Order in criminal matters                                                                                                                                               38\n",
      "Council Framework Decision of 13 June 2002 on the European arrest warrant and the surrender procedures between Member States (2002/584/JHA)                                                                                                                                                     13\n",
      "Regulation (EU) 2018/1805 of the European Parliament and of the Council of 14 November 2018 on the mutual recognition of freezing orders and confiscation orders                                                                                                                                12\n",
      "Council Framework Decision 2006/783/JHA of 6 October 2006 on the application of the principle of mutual recognition to confiscation orders                                                                                                                                                      11\n",
      "Council Framework Decision 2003/577/JHA of 22 July 2003 on the execution in the European Union of orders freezing property or evidence                                                                                                                                                           5\n",
      "Council Framework Decision 2005/214/JHA of 24 February 2005 on the application of the principle of mutual recognition to financial penalties                                                                                                                                                     2\n",
      "The Schengen acquis - Convention implementing the Schengen Agreement of 14 June 1985 between the Governments of the States of the Benelux Economic Union, the Federal Republic of Germany and the French Republic on the gradual abolition of checks at their common borders                     1\n",
      "Council Framework Decision 2008/909/JHA of 27 November 2008 on the application of the principle of mutual recognition to judgments in criminal matters imposing custodial sentences or measures involving deprivation of liberty for the purpose of their enforcement in the European Union      1\n",
      "Name: count, dtype: int64\n",
      "euProvisions\n",
      "32002F0584        124\n",
      "Not mentioned      70\n",
      "32014L0041         39\n",
      "32018R1805         12\n",
      "32006F0783         11\n",
      "32003F0577          5\n",
      "12012M/TXT          2\n",
      "32005F0214          2\n",
      "42000A0922(02)      1\n",
      "12012E/TXT          1\n",
      "32008F0909          1\n",
      "12016M006           1\n",
      "12012P/TXT          1\n",
      "Name: count, dtype: int64\n",
      "\n",
      "70 of cases have no EU provisions mentioned\n"
     ]
    }
   ],
   "source": [
    "# counts of EU provisions provided in the dataset\n",
    "print(df[\"euProvisions\"].apply(lambda x: x[0][\"name\"] if len(x) > 0 else \"Not mentioned\").replace(\"\", \"Not mentioned\").value_counts())\n",
    "print(df[\"euProvisions\"].apply(lambda x: x[0][\"celex\"] if len(x) > 0 else \"Not mentioned\").replace(\"\", \"Not mentioned\").value_counts())\n",
    "\n",
    "eu_provisions_not_provided = len(df[df[\"euProvisions\"].apply(lambda x: x[0][\"celex\"] if len(x) > 0 else \"Not mentioned\").replace(\"\", \"Not mentioned\") == \"Not mentioned\"])\n",
    "\n",
    "print()\n",
    "print(f\"{eu_provisions_not_provided} of cases have no EU provisions mentioned\")"
   ]
  },
  {
   "cell_type": "code",
   "execution_count": 40,
   "metadata": {},
   "outputs": [
    {
     "name": "stdout",
     "output_type": "stream",
     "text": [
      "### 2002/584/JHA : Council Framework Decision of 13 June 2002 on the European arrest warrant and the surrender procedures between Member States - Statements made by certain Member States on the adoption of the Framework Decision per jurisdiction ###\n",
      "jurisdiction\n",
      "Portugal       38\n",
      "Poland         37\n",
      "Italy          28\n",
      "Germany         7\n",
      "Netherlands     1\n",
      "Name: count, dtype: int64\n",
      "\n",
      "### Not mentioned per jurisdiction ###\n",
      "jurisdiction\n",
      "Bulgaria          24\n",
      "Italy             21\n",
      "Germany           18\n",
      "Portugal           8\n",
      "European Union     2\n",
      "Poland             2\n",
      "Netherlands        1\n",
      "Name: count, dtype: int64\n",
      "\n",
      "### The Schengen acquis - Convention implementing the Schengen Agreement of 14 June 1985 between the Governments of the States of the Benelux Economic Union, the Federal Republic of Germany and the French Republic on the gradual abolition of checks at their common borders per jurisdiction ###\n",
      "jurisdiction\n",
      "Bulgaria    1\n",
      "Name: count, dtype: int64\n",
      "\n",
      "### Council Framework Decision of 13 June 2002 on the European arrest warrant and the surrender procedures between Member States (2002/584/JHA) per jurisdiction ###\n",
      "jurisdiction\n",
      "Bulgaria    13\n",
      "Name: count, dtype: int64\n",
      "\n",
      "### Council Framework Decision 2006/783/JHA of 6 October 2006 on the application of the principle of mutual recognition to confiscation orders per jurisdiction ###\n",
      "jurisdiction\n",
      "Bulgaria    11\n",
      "Name: count, dtype: int64\n",
      "\n",
      "### Directive 2014/41/EU of the European Parliament and of the Council of 3 April 2014 regarding the European Investigation Order in criminal matters per jurisdiction ###\n",
      "jurisdiction\n",
      "Bulgaria    22\n",
      "Poland       9\n",
      "Portugal     7\n",
      "Name: count, dtype: int64\n",
      "\n",
      "### Regulation (EU) 2018/1805 of the European Parliament and of the Council of 14 November 2018 on the mutual recognition of freezing orders and confiscation orders per jurisdiction ###\n",
      "jurisdiction\n",
      "Portugal    5\n",
      "Bulgaria    3\n",
      "Italy       3\n",
      "Poland      1\n",
      "Name: count, dtype: int64\n",
      "\n",
      "### Council Framework Decision 2005/214/JHA of 24 February 2005 on the application of the principle of mutual recognition to financial penalties per jurisdiction ###\n",
      "jurisdiction\n",
      "Bulgaria    2\n",
      "Name: count, dtype: int64\n",
      "\n",
      "### Council Framework Decision 2003/577/JHA of 22 July 2003 on the execution in the European Union of orders freezing property or evidence per jurisdiction ###\n",
      "jurisdiction\n",
      "Bulgaria    5\n",
      "Name: count, dtype: int64\n",
      "\n",
      "### Council Framework Decision 2008/909/JHA of 27 November 2008 on the application of the principle of mutual recognition to judgments in criminal matters imposing custodial sentences or measures involving deprivation of liberty for the purpose of their enforcement in the European Union per jurisdiction ###\n",
      "jurisdiction\n",
      "Poland    1\n",
      "Name: count, dtype: int64\n",
      "\n"
     ]
    }
   ],
   "source": [
    "aux = df.copy()\n",
    "aux[\"euProvisions\"] = aux[\"euProvisions\"].apply(lambda x: x[0][\"name\"] if len(x) > 0 else \"Not mentioned\").replace(\"\", \"Not mentioned\")\n",
    "unique_eu_provisions = aux[\"euProvisions\"].unique()\n",
    "\n",
    "# types of decisions per jurisdiction\n",
    "for provision in unique_eu_provisions:\n",
    "    print(f\"### {provision} per jurisdiction ###\")\n",
    "    print(aux[aux[\"euProvisions\"] == provision][\"jurisdiction\"].apply(lambda x: x[\"label\"] if x != None else \"None\").value_counts())\n",
    "    print()"
   ]
  }
 ],
 "metadata": {
  "kernelspec": {
   "display_name": "facilex_caselaw",
   "language": "python",
   "name": "python3"
  },
  "language_info": {
   "codemirror_mode": {
    "name": "ipython",
    "version": 3
   },
   "file_extension": ".py",
   "mimetype": "text/x-python",
   "name": "python",
   "nbconvert_exporter": "python",
   "pygments_lexer": "ipython3",
   "version": "3.11.5"
  }
 },
 "nbformat": 4,
 "nbformat_minor": 2
}
