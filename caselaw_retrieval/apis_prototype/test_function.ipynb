{
 "cells": [
  {
   "cell_type": "code",
   "execution_count": 1,
   "metadata": {},
   "outputs": [],
   "source": [
    "import os\n",
    "\n",
    "from facilex_platform_code_case_recommendation import *\n",
    "\n",
    "testing_path = \"testing/\"\n",
    "\n",
    "for input_file in os.listdir(testing_path):\n",
    "    query_data, search_embeddings_data, search_text_data = read_json_data(json_case_query_path=testing_path+input_file, json_search_embedding_path=\"corpus_embedded.json\", json_search_text_path=\"corpus.json\")\n",
    "\n",
    "    query_embedding, search_embedding = get_embeddings_from_json(search_embeddings_data, query_data[\"uniqueId\"])\n",
    "\n",
    "    similar_cases: list = cosine_similarity_search(query_embedding, search_embedding, query_data[\"euProvisions\"], search_text_data, top_k=5)\n",
    "\n",
    "    file_name = \"example_\" + \"_\".join(input_file.split(\"_\")[1:])\n",
    "    json.dump(similar_cases, open(testing_path+file_name, \"w\"), indent = 2)"
   ]
  }
 ],
 "metadata": {
  "kernelspec": {
   "display_name": "facilex_caselaw",
   "language": "python",
   "name": "python3"
  },
  "language_info": {
   "codemirror_mode": {
    "name": "ipython",
    "version": 3
   },
   "file_extension": ".py",
   "mimetype": "text/x-python",
   "name": "python",
   "nbconvert_exporter": "python",
   "pygments_lexer": "ipython3",
   "version": "3.11.8"
  }
 },
 "nbformat": 4,
 "nbformat_minor": 2
}
