{
 "cells": [
  {
   "cell_type": "code",
   "execution_count": 1,
   "metadata": {},
   "outputs": [
    {
     "name": "stderr",
     "output_type": "stream",
     "text": [
      ".............................................................................................................................................................................................................................................................................................................................................................................................................................\n",
      "----------------------------------------------------------------------\n",
      "Ran 413 tests in 38.102s\n",
      "\n",
      "OK\n"
     ]
    },
    {
     "data": {
      "text/plain": [
       "<testing_code.result_text_custom_result run=413 errors=0 failures=0>"
      ]
     },
     "execution_count": 1,
     "metadata": {},
     "output_type": "execute_result"
    }
   ],
   "source": [
    "import os\n",
    "import unittest\n",
    "from testing_code import input_test, result_text_custom_runner\n",
    "\n",
    "path_test = \"testing_data/input/\"\n",
    "\n",
    "def suite():\n",
    "    test_suite = unittest.TestSuite()\n",
    "    for test_file in os.listdir(path_test):\n",
    "        test_suite.addTest(input_test(\"test_input_query\", input_file=test_file, testing_path=path_test))\n",
    "\n",
    "    return test_suite\n",
    "\n",
    "run = result_text_custom_runner(verbosity=1)\n",
    "run.run(suite())"
   ]
  }
 ],
 "metadata": {
  "kernelspec": {
   "display_name": "facilex_caselaw",
   "language": "python",
   "name": "python3"
  },
  "language_info": {
   "codemirror_mode": {
    "name": "ipython",
    "version": 3
   },
   "file_extension": ".py",
   "mimetype": "text/x-python",
   "name": "python",
   "nbconvert_exporter": "python",
   "pygments_lexer": "ipython3",
   "version": "3.11.5"
  }
 },
 "nbformat": 4,
 "nbformat_minor": 2
}
