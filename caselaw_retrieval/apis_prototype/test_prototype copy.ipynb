{
 "cells": [
  {
   "cell_type": "code",
   "execution_count": 112,
   "metadata": {},
   "outputs": [],
   "source": [
    "import json\n",
    "import numpy as np\n",
    "\n",
    "def cosine_similarity(query_embedding: np.ndarray, search_embedding: np.ndarray):\n",
    "    \"\"\"\n",
    "    Compute the cosine similarity between 2 arrays\n",
    "    \"\"\"\n",
    "    # first normalize the arrays to unit length\n",
    "    query_embedding /= np.linalg.norm(query_embedding)\n",
    "    search_embedding = (search_embedding.T / np.linalg.norm(search_embedding, axis = 1))\n",
    "\n",
    "    # then compute the normalized dot product\n",
    "    return np.dot(query_embedding, search_embedding)[0]\n",
    "\n",
    "def check_celex_status(query_celex: str, retrieved_case_celex: str):\n",
    "    \"\"\"\n",
    "    Check whether the query case has any CELEX;\\n\\n\n",
    "    ---\n",
    "    If not available, return True.\\n\n",
    "    If available check whether it matches with another given CELEX.\n",
    "    \"\"\"\n",
    "    return (query_celex == None) or (query_celex == retrieved_case_celex)\n",
    "\n",
    "def cosine_similarity_search(query_embedding: np.ndarray, search_space_embedding: np.ndarray, query_celex: str, search_space: list, top_k: int = 5) -> list:\n",
    "    \"\"\"\n",
    "    Given the embedded representation of a query case and the embeddings of the cases through which to search,\n",
    "    return the `top_k` most similar cases based on cosine similarity from most similar to least\n",
    "    \"\"\"\n",
    "    cosine_scores: list = cosine_similarity(query_embedding, search_space_embedding)\n",
    "\n",
    "    # sort the similarity scores from most to least similar and select the top 5 most similar cases\n",
    "    paired_scores_search_data: list = [(data_entry, score) for data_entry, score in zip(search_space, cosine_scores)]\n",
    "    best_matches: list = sorted(paired_scores_search_data, key = lambda x: x[1], reverse = True)[:top_k]\n",
    "\n",
    "    # only show the user cases which do have the same CELEX number; if there are no CELEX IDs in the query case, then simply return the most semantically similar cases\n",
    "    best_matches: list = [retrieved_case[0] for retrieved_case in best_matches if check_celex_status(query_celex, retrieved_case[0][\"euProvisions\"])]\n",
    "    \n",
    "    return best_matches"
   ]
  },
  {
   "cell_type": "code",
   "execution_count": 134,
   "metadata": {},
   "outputs": [
    {
     "name": "stdout",
     "output_type": "stream",
     "text": [
      "85.2 ms ± 948 µs per loop (mean ± std. dev. of 7 runs, 10 loops each)\n"
     ]
    }
   ],
   "source": [
    "def read_json_data(json_case_query: str, json_search_embedding: str, json_search_text: str):\n",
    "    \"\"\"\n",
    "    Load:\n",
    "    * `json_case_query`: the json of the query case;\n",
    "    * `json_search_embedding`: the json containing the entire search corpus of cases;\n",
    "    * `json_search_text`: the json containing the embeddings of the search corpus.\n",
    "    \"\"\"\n",
    "    query_data: dict = json.load(open(json_case_query, \"r\"))\n",
    "    search_embeddings_data: list = json.load(open(json_search_embedding, \"r\"))\n",
    "    search_text_data: list = json.load(open(json_search_text, \"r\"))\n",
    "\n",
    "    # remove query case from the search corpus\n",
    "    search_text_data = [item for item in search_text_data if item[\"uniqueId\"] != query_data[\"uniqueId\"]]\n",
    "\n",
    "    return query_data, search_embeddings_data, search_text_data\n",
    "\n",
    "def get_embeddings_from_json(search_embeddings_data, query_data_uid):\n",
    "    \"\"\"\n",
    "    Get the embedding(s):\n",
    "    * of the query;\n",
    "    * of the search corpus, while ignoring the the embedding of the query.\n",
    "    \"\"\"\n",
    "    query_embedding: np.ndarray = np.asarray([search_space_item[\"embedding\"] for search_space_item in search_embeddings_data if search_space_item[\"uniqueId\"] == query_data_uid])\n",
    "    search_embedding: np.ndarray = np.asarray([np.asarray(search_space_item[\"embedding\"]) for search_space_item in search_embeddings_data if search_space_item[\"uniqueId\"] != query_data_uid])\n",
    "\n",
    "    return query_embedding, search_embedding\n",
    "\n",
    "if __name__ == \"__main__\":\n",
    "    query_data, search_embeddings_data, search_text_data = read_json_data(json_case_query=\"input_query.json\", json_search_embedding=\"corpus_embedded.json\", json_search_text=\"corpus.json\")\n",
    "\n",
    "    query_embedding, search_embedding = get_embeddings_from_json(search_embeddings_data, query_data[\"uniqueId\"])\n",
    "\n",
    "    similar_cases: list = cosine_similarity_search(query_embedding, search_embedding, query_data[\"euProvisions\"], search_text_data)\n",
    "\n",
    "    json.dump(similar_cases, open(\"example_output.json\", \"w\"), indent = 2)"
   ]
  }
 ],
 "metadata": {
  "kernelspec": {
   "display_name": "facilex_caselaw",
   "language": "python",
   "name": "python3"
  },
  "language_info": {
   "codemirror_mode": {
    "name": "ipython",
    "version": 3
   },
   "file_extension": ".py",
   "mimetype": "text/x-python",
   "name": "python",
   "nbconvert_exporter": "python",
   "pygments_lexer": "ipython3",
   "version": "3.11.5"
  }
 },
 "nbformat": 4,
 "nbformat_minor": 2
}
