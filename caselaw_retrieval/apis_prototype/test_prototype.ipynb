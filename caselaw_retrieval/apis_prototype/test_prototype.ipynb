{
 "cells": [
  {
   "cell_type": "code",
   "execution_count": 49,
   "metadata": {},
   "outputs": [],
   "source": [
    "import json\n",
    "import numpy as np\n",
    "\n",
    "from sklearn.metrics.pairwise import cosine_similarity\n",
    "\n",
    "# given the embedded representation of a query case and the embeddings of the cases through which to search, alongside their respective CELEX IDs,\n",
    "# return the ordered indices (from most similar to least) of retrieved cases\n",
    "def cosine_similarity_search(query: np.ndarray, search_space: np.ndarray, query_celex: str, search_space_celex: list, top_k: int = 5) -> list:\n",
    "    cosine_scores: list = cosine_similarity(query.reshape(1,-1), search_space)[0]\n",
    "\n",
    "    # sort the similarity scores from most to least similar and select the top 5 most similar cases alongside their CELEX IDs, while ignoring the query itself\n",
    "    all_matches: np.ndarray = np.argsort(cosine_scores)[::-1]\n",
    "    best_matches: np.ndarray = all_matches[:top_k]\n",
    "    search_space_celex: np.ndarray = search_space_celex[best_matches]\n",
    "\n",
    "    # only show the user cases which do have the same CELEX number; this can be removed to include semantically similar cases which differ in their CELEX\n",
    "    # if there are no EU provisions in the query case, then simply return the most semantically similar cases\n",
    "    similar_cases: list = [retrieved_case for retrieved_case, retrieved_case_celex in zip(best_matches, search_space_celex) if query_celex == None or query_celex == retrieved_case_celex] # indices of most similar cases\n",
    "    \n",
    "    return similar_cases"
   ]
  },
  {
   "cell_type": "code",
   "execution_count": 50,
   "metadata": {},
   "outputs": [
    {
     "name": "stdout",
     "output_type": "stream",
     "text": [
      "89.2 ms ± 813 µs per loop (mean ± std. dev. of 7 runs, 10 loops each)\n"
     ]
    }
   ],
   "source": [
    "if __name__ == \"__main__\":\n",
    "    query_data: dict = json.load(open(\"input_query.json\", \"r\")) # json of case that facilitates query\n",
    "    search_embeddings_data: dict = json.load(open(\"corpus_embedded.json\", \"r\")) # json of all available cases on which to search for similar ones\n",
    "    search_text_data: dict = json.load(open(\"corpus.json\", \"r\"))\n",
    "\n",
    "    # extract the most important of information from the search json and store it in lists to later convert into json items\n",
    "    uniqueId_to_idx: np.ndarray = np.asarray([id[\"uniqueId\"] for id in search_text_data])\n",
    "    search_celex: np.ndarray = np.asarray([search_space_item[\"euProvisions\"] for search_space_item in search_text_data])\n",
    "    search_embedded: np.ndarray = np.asarray([np.asarray(search_space_item[\"embedding\"]) for search_space_item in search_embeddings_data if search_space_item[\"uniqueId\"] != query_data[\"uniqueId\"]])\n",
    "\n",
    "    # get embedding of query\n",
    "    query_embedded: np.ndarray = np.asarray([search_space_item[\"embedding\"] for search_space_item in search_embeddings_data if search_space_item[\"uniqueId\"] == query_data[\"uniqueId\"]])\n",
    "\n",
    "    recommended_idx: list = cosine_similarity_search(query_embedded, search_embedded, query_data[\"euProvisions\"], search_celex)\n",
    "    output_data: list = [{\"uniqueId\": uniqueId_to_idx[idx], \"summaryEn\": search_text_data[idx][\"summaryEn\"], \"euProvisions\": search_celex[idx], \"jurisdiction\": search_text_data[idx][\"jurisdiction\"]} for idx in recommended_idx]\n",
    "\n",
    "    json.dump(output_data, open(\"example_output.json\", \"w\"), indent = 2)"
   ]
  },
  {
   "cell_type": "code",
   "execution_count": 51,
   "metadata": {},
   "outputs": [],
   "source": [
    "# \"uniqueId\": \"350cb54e-c873-4830-8610-f57f9d440cb4\",\n",
    "# \"uniqueId\": \"bae4ce74-9d26-493f-bf37-71f58f99c707\",\n",
    "# \"uniqueId\": \"f992df38-863e-4ce7-a87a-74def13b803b\",\n",
    "# \"uniqueId\": \"6fcf8686-a425-4c68-8239-3137caf23f78\",\n",
    "# \"uniqueId\": \"b3954a6a-8ea3-474b-8c85-b176fa0b236d\","
   ]
  }
 ],
 "metadata": {
  "kernelspec": {
   "display_name": "facilex_caselaw",
   "language": "python",
   "name": "python3"
  },
  "language_info": {
   "codemirror_mode": {
    "name": "ipython",
    "version": 3
   },
   "file_extension": ".py",
   "mimetype": "text/x-python",
   "name": "python",
   "nbconvert_exporter": "python",
   "pygments_lexer": "ipython3",
   "version": "3.11.5"
  }
 },
 "nbformat": 4,
 "nbformat_minor": 2
}
