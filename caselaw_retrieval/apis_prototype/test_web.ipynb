{
 "cells": [
  {
   "cell_type": "code",
   "execution_count": 18,
   "metadata": {},
   "outputs": [],
   "source": [
    "import requests\n",
    "import pandas as pd\n",
    "from bs4 import BeautifulSoup\n",
    "\n",
    "url = \"https://facilex-tool.eu/LegalDB/Search/List/Search-12\""
   ]
  },
  {
   "cell_type": "code",
   "execution_count": 19,
   "metadata": {},
   "outputs": [],
   "source": [
    "req = requests.get(url)"
   ]
  },
  {
   "cell_type": "code",
   "execution_count": 20,
   "metadata": {},
   "outputs": [],
   "source": [
    "data = BeautifulSoup(req.text, \"html.parser\")"
   ]
  },
  {
   "cell_type": "code",
   "execution_count": 26,
   "metadata": {},
   "outputs": [
    {
     "name": "stdout",
     "output_type": "stream",
     "text": [
      "[<a class=\"desktop-hidden\" href=\"#\" id=\"top-mobile-navigation-trigger\">\n",
      "<span class=\"fa fa-bars\"></span>\n",
      "</a>, <a class=\"relative\" href=\"/LegalDB/\" id=\"top-logo\">\n",
      "<div class=\"logo-main-eu\"><span style=\"color: red; margin-left: 10px;\">DEMO</span></div>\n",
      "<span class=\"logo-free-tour\">\n",
      "</span>\n",
      "</a>, <a class=\"desktop-hidden\" href=\"#\" id=\"top-mobile-search-trigger\">\n",
      "<span class=\"fa fa-search\"></span>\n",
      "</a>, <a href=\"/LegalDB/\" id=\"nav-link-home\">\n",
      "<span class=\"span-navigation-label\">Home</span>\n",
      "</a>, <a href=\"/LegalDB/RecentDocuments/Index\" id=\"nav-link-recent-documents\">\n",
      "<span class=\"span-navigation-label span-navigation-label-registered\">Recent documents</span>\n",
      "</a>, <a href=\"/LegalDB/User/MyDocuments\" id=\"nav-link-my-documents\">\n",
      "<span class=\"span-navigation-label span-navigation-label-registered\">My documents</span>\n",
      "</a>, <a href=\"/LegalDB/User/MySearches\" id=\"nav-link-my-searches\">\n",
      "<span class=\"span-navigation-label span-navigation-label-registered\">My searches</span>\n",
      "</a>, <a href=\"#\" id=\"nav-link-mobile-languages\">\n",
      "<img src=\"/LegalDB/Content/Images/flags/en.png\"/>\n",
      "<span class=\"span-navigation-label\">English</span>\n",
      "<span class=\"fa fa-chevron-down f-1-3 right\"></span>\n",
      "</a>, <a href=\"javascript:changeSelectedProduct('2');\"><span class=\"fa fa-square-o\"></span> TAX&amp;FINANCIAL STANDARDS</a>, <a href=\"/LegalDB/Login/Registration\">Registration</a>, <a href=\"/LegalDB/Login/Logout/1\">Login</a>, <a aria-expanded=\"false\" class=\"dropdown-toggle language-dropdown block\" data-toggle=\"dropdown\" href=\"#\">\n",
      "<span class=\"block left header-language-title\">English</span>\n",
      "<img alt=\"English\" class=\"block left flag-in-dropdown\" src=\"/LegalDB/Content/Images/flags/en.png\"/>\n",
      "<span class=\"chevron-white-down left\"></span>\n",
      "</a>, <a class=\"block\" href=\"javascript:changeLang('bg')\" role=\"menuitem\">\n",
      "<span class=\"block left\">Български</span><img alt=\"Български\" class=\"block right flag-in-dropdown\" src=\"/LegalDB/Content/Images/flags/bg.png\"/>\n",
      "</a>, <a class=\"block\" href=\"javascript:changeLang('it')\" role=\"menuitem\">\n",
      "<span class=\"block left\">Italiano</span><img alt=\"Italiano\" class=\"block right flag-in-dropdown\" src=\"/LegalDB/Content/Images/flags/it.png\"/>\n",
      "</a>, <a href=\"javascript:void(0);\">\n",
      "<img src=\"/LegalDB/Content/Images/flags/bg.png\">\n",
      "<span class=\"span-navigation-label\">Български</span>\n",
      "</img></a>, <a href=\"javascript:void(0);\">\n",
      "<img src=\"/LegalDB/Content/Images/flags/en.png\">\n",
      "<span class=\"span-navigation-label\">English</span>\n",
      "</img></a>, <a href=\"javascript:void(0);\">\n",
      "<img src=\"/LegalDB/Content/Images/flags/it.png\">\n",
      "<span class=\"span-navigation-label\">Italiano</span>\n",
      "</img></a>, <a href=\"#\" id=\"multi-dict-main-trigger\" title=\"Multilingual dictionary\">\n",
      "<span class=\"fa fa-book f-1-0\"></span>\n",
      "</a>, <a href=\"#\" id=\"btn-search-icon\" onclick=\"javascript: $('#SearchForm').submit(); return false;\"><div class=\"search-icon\"></div></a>, <a href=\"#\" id=\"multi-dict-main-trigger\" title=\"Multilingual dictionary\"><span class=\"fa fa-book f-1-0\"></span></a>, <a href=\"#\" id=\"btn-do-search-mobile\" onclick=\"javascript: $('#SearchForm').submit(); return false;\"><div class=\"search-icon\"></div></a>, <a class=\"cases-expand-link\" href=\"#\"><span class=\"list-item\" id=\"span-cases\">Case law</span></a>, <a class=\"legislation-expand-link\" href=\"#\"><span class=\"list-item\" id=\"span-legislation\">EU legislation</span></a>, <a class=\"f-blue-important btn\" href=\"#\" id=\"refered-act-convention-and-protocols\">Convention and protocols</a>, <a class=\"f-blue-important btn\" href=\"#\" id=\"refered-act-court-rules\">Rules of the Court</a>, <a class=\"multilingual-dictionary-letter selected\" data-letter=\"all\" href=\"#\">All</a>, <a class=\"multilingual-dictionary-letter\" data-letter=\"A\" href=\"#\">A</a>, <a class=\"multilingual-dictionary-letter disabled\" data-letter=\"B\" href=\"#\">B</a>, <a class=\"multilingual-dictionary-letter\" data-letter=\"C\" href=\"#\">C</a>, <a class=\"multilingual-dictionary-letter\" data-letter=\"D\" href=\"#\">D</a>, <a class=\"multilingual-dictionary-letter\" data-letter=\"E\" href=\"#\">E</a>, <a class=\"multilingual-dictionary-letter\" data-letter=\"F\" href=\"#\">F</a>, <a class=\"multilingual-dictionary-letter\" data-letter=\"G\" href=\"#\">G</a>, <a class=\"multilingual-dictionary-letter\" data-letter=\"H\" href=\"#\">H</a>, <a class=\"multilingual-dictionary-letter\" data-letter=\"I\" href=\"#\">I</a>, <a class=\"multilingual-dictionary-letter\" data-letter=\"J\" href=\"#\">J</a>, <a class=\"multilingual-dictionary-letter disabled\" data-letter=\"K\" href=\"#\">K</a>, <a class=\"multilingual-dictionary-letter\" data-letter=\"L\" href=\"#\">L</a>, <a class=\"multilingual-dictionary-letter\" data-letter=\"M\" href=\"#\">M</a>, <a class=\"multilingual-dictionary-letter\" data-letter=\"N\" href=\"#\">N</a>, <a class=\"multilingual-dictionary-letter\" data-letter=\"O\" href=\"#\">O</a>, <a class=\"multilingual-dictionary-letter\" data-letter=\"P\" href=\"#\">P</a>, <a class=\"multilingual-dictionary-letter disabled\" data-letter=\"Q\" href=\"#\">Q</a>, <a class=\"multilingual-dictionary-letter\" data-letter=\"R\" href=\"#\">R</a>, <a class=\"multilingual-dictionary-letter\" data-letter=\"S\" href=\"#\">S</a>, <a class=\"multilingual-dictionary-letter\" data-letter=\"T\" href=\"#\">T</a>, <a class=\"multilingual-dictionary-letter\" data-letter=\"U\" href=\"#\">U</a>, <a class=\"multilingual-dictionary-letter disabled\" data-letter=\"V\" href=\"#\">V</a>, <a class=\"multilingual-dictionary-letter disabled\" data-letter=\"W\" href=\"#\">W</a>, <a class=\"multilingual-dictionary-letter disabled\" data-letter=\"X\" href=\"#\">X</a>, <a class=\"multilingual-dictionary-letter disabled\" data-letter=\"Y\" href=\"#\">Y</a>, <a class=\"multilingual-dictionary-letter disabled\" data-letter=\"Z\" href=\"#\">Z</a>, <a class=\"title_filter\" href=\"/LegalDB/Search/HomeSearch/966\">International treaties and standards (60)</a>, <a class=\"list_filters\" href=\"/LegalDB/Search/HomeSearch/967\">Conventions and additional protocols  (32)</a>, <a class=\"list_filters\" href=\"/LegalDB/Search/HomeSearch/968\">Recommendations and standard minimum rules (28)</a>, <a class=\"title_filter\" href=\"/LegalDB/Search/HomeSearch/969\">Founding treaties of the EU (3)</a>, <a class=\"title_filter\" href=\"/LegalDB/Search/HomeSearch/973\">Case law (2309)</a>, <a class=\"list_filters\" href=\"/LegalDB/Search/HomeSearch/974\">Court of Justice of the EU (253)</a>, <a class=\"list_filters\" href=\"/LegalDB/Search/HomeSearch/975\">European Court of Human Rights (746)</a>, <a class=\"list_filters\" href=\"/LegalDB/Search/HomeSearch/976\">National case law (1310)</a>, <a class=\"title_filter\" href=\"/LegalDB/Search/HomeSearch/970\">Legislation (1094)</a>, <a class=\"list_filters\" href=\"/LegalDB/Search/HomeSearch/971\">EU legislation (726)</a>, <a class=\"list_filters\" href=\"/LegalDB/Search/HomeSearch/972\">National legislation (368)</a>, <a class=\"title_filter\" href=\"/LegalDB/Search/HomeSearch/977\">Expert materials (196)</a>, <a class=\"list_filters\" href=\"/LegalDB/Search/HomeSearch/978\">Articles (32)</a>, <a class=\"list_filters\" href=\"/LegalDB/Search/HomeSearch/979\">E-learning tools (26)</a>, <a class=\"list_filters\" href=\"/LegalDB/Search/HomeSearch/980\">Handbooks and practical guides (55)</a>, <a class=\"list_filters\" href=\"/LegalDB/Search/HomeSearch/981\">Reports and research studies (72)</a>, <a class=\"list_filters\" href=\"/LegalDB/Search/HomeSearch/982\">National Reports (11)</a>, <a href=\"/LegalDB/Doc/LegalAct/5811096\" target=\"_blank\" title=\"Regulation (EU) 2018/1805 of the European Parliament and of the Council of 14 November 2018 on the mutual recognition of freezing orders and confiscation orders\">\n",
      "                    Regulation (EU) 2018/1805 of the European Parliament and of the Council of 14 November 2018 on the mutual recognition of freezing orders and confiscation orders\n",
      "\n",
      "                </a>, <a href=\"/LegalDB/Doc/LegalAct/6582251\" target=\"_blank\" title=\"Directive 2014/41/EU of the European Parliament and of the Council of 3 April 2014 regarding the European Investigation Order in criminal matters\">\n",
      "                    Directive 2014/41/EU of the European Parliament and of the Council of 3 April 2014 regarding the European Investigation Order in criminal matters\n",
      "\n",
      "                </a>, <a href=\"/LegalDB/Doc/LegalAct/6148171\" target=\"_blank\" title=\"2002/584/JHA : Council Framework Decision of 13 June 2002 on the European arrest warrant and the surrender procedures between Member States - Statements made by certain Member States on the adoption of the Framework Decision\">\n",
      "                    2002/584/JHA : Council Framework Decision of 13 June 2002 on the European arrest warrant and the surrender procedures between Member States - Statements made by certain Member States on the adoption of the Framework Decision\n",
      "\n",
      "                </a>, <a href=\"/LegalDB/Doc/LegalAct/5442455\" target=\"_blank\" title=\"Directive (EU) 2016/1919 of the European Parliament and of the Council of 26 October 2016 on legal aid for suspects and accused persons in criminal proceedings and for requested persons in European arrest warrant proceedings\">\n",
      "                    Directive (EU) 2016/1919 of the European Parliament and of the Council of 26 October 2016 on legal aid for suspects and accused persons in criminal proceedings and for requested persons in European arrest warrant proceedings\n",
      "\n",
      "                </a>, <a href=\"/LegalDB/Doc/LegalAct/5440350\" target=\"_blank\" title=\"Directive (EU) 2016/800 of the European Parliament and of the Council of 11 May 2016 on procedural safeguards for children who are suspects or accused persons in criminal proceedings\">\n",
      "                    Directive (EU) 2016/800 of the European Parliament and of the Council of 11 May 2016 on procedural safeguards for children who are suspects or accused persons in criminal proceedings\n",
      "\n",
      "                </a>, <a href=\"/LegalDB/Doc/LegalAct/5180437\" target=\"_blank\" title=\"Directive (EU) 2016/343 of the European Parliament and of the Council of 9 March 2016 on the strengthening of certain aspects of the presumption of innocence and of the right to be present at the trial in criminal proceedings\">\n",
      "                    Directive (EU) 2016/343 of the European Parliament and of the Council of 9 March 2016 on the strengthening of certain aspects of the presumption of innocence and of the right to be present at the trial in criminal proceedings\n",
      "\n",
      "                </a>, <a href=\"/LegalDB/Doc/LegalAct/6064670\" target=\"_blank\" title=\"Directive 2013/48/EU of the European Parliament and of the Council of 22 October 2013 on the right of access to a lawyer in criminal proceedings and in European arrest warrant proceedings, and on the right to have a third party informed upon deprivation of liberty and to communicate with third persons and with consular authorities while deprived of liberty\">\n",
      "                    Directive 2013/48/EU of the European Parliament and of the Council of 22 October 2013 on the right of access to a lawyer in criminal proceedings and in European arrest warrant proceedings, and on the right to have a third party informed upon deprivation of liberty and to communicate with third persons and with consular authorities while deprived of liberty\n",
      "\n",
      "                </a>, <a href=\"/LegalDB/Doc/LegalAct/6064493\" target=\"_blank\" title=\"Directive 2012/13/EU of the European Parliament and of the Council of 22 May 2012 on the right to information in criminal proceedings\">\n",
      "                    Directive 2012/13/EU of the European Parliament and of the Council of 22 May 2012 on the right to information in criminal proceedings\n",
      "\n",
      "                </a>, <a href=\"/LegalDB/Doc/LegalAct/5261470\" target=\"_blank\" title=\"Directive 2010/64/EU of the European Parliament and of the Council of 20 October 2010 on the right to interpretation and translation in criminal proceedings\">\n",
      "                    Directive 2010/64/EU of the European Parliament and of the Council of 20 October 2010 on the right to interpretation and translation in criminal proceedings\n",
      "\n",
      "                </a>, <a href=\"https://site.unibo.it/facilex/en\" target=\"_blank\">FACILEX project website</a>, <a href=\"https://facilex-tool.eu/\" target=\"_blank\">FACILEX Portal</a>, <a href=\"https://facilex-tool.eu/legal#privacy-policy\" target=\"_blank\">Privacy policy</a>, <a href=\"https://facilex-tool.eu/legal#disclaimer\" target=\"_blank\">Disclaimer</a>, <a href=\"https://facilex-tool.eu/legal#copyright-notice\" target=\"_blank\">Copyright notice</a>]\n"
     ]
    }
   ],
   "source": [
    "print(data.find_all(\"a\"))"
   ]
  }
 ],
 "metadata": {
  "kernelspec": {
   "display_name": "facilex_caselaw",
   "language": "python",
   "name": "python3"
  },
  "language_info": {
   "codemirror_mode": {
    "name": "ipython",
    "version": 3
   },
   "file_extension": ".py",
   "mimetype": "text/x-python",
   "name": "python",
   "nbconvert_exporter": "python",
   "pygments_lexer": "ipython3",
   "version": "3.11.9"
  }
 },
 "nbformat": 4,
 "nbformat_minor": 2
}
