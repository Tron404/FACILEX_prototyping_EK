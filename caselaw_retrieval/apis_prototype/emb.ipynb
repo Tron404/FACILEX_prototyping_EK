{
 "cells": [
  {
   "cell_type": "code",
   "execution_count": 1,
   "metadata": {},
   "outputs": [],
   "source": [
    "import json\n",
    "import re\n",
    "import numpy as np\n",
    "import torch\n",
    "\n",
    "from sentence_transformers import SentenceTransformer"
   ]
  },
  {
   "cell_type": "code",
   "execution_count": 2,
   "metadata": {},
   "outputs": [],
   "source": [
    "# assumption that data contains non-relevant elements of code/URL\n",
    "def sanitize_data(text: str) -> str:\n",
    "    text = re.sub(r\"(?:https://)?www.[^\\s<]+\", \"\", text) # remove potential websites\n",
    "    text = re.sub(r\"<.*?>\", \"\", text) # remove HTML elements\n",
    "    text = re.sub(r\"&nbsp;\", \"\", text) # remove leftover formatting\n",
    "    text = text.strip()\n",
    "\n",
    "    return text"
   ]
  },
  {
   "cell_type": "code",
   "execution_count": 5,
   "metadata": {},
   "outputs": [],
   "source": [
    "device: torch.device = torch.device(\"cuda\" if torch.cuda.is_available() else \"cpu\") # for embedding using transformers\n",
    "embedding_model: SentenceTransformer = SentenceTransformer(\"../../models/multi-qa-mpnet-base-dot-v1\", device = device).half() # fp16\n",
    "\n",
    "# uniqueId\n",
    "# summaryEn\n",
    "# euProvisions\n",
    "# jurisdiction\n",
    "\n",
    "corpus_data: dict = json.load(open(\"corpus.json\", \"r\")) # json of all available cases on which to search for similar ones\n",
    "\n",
    "for search_text in corpus_data:\n",
    "    search_text[\"summaryEn\"] = sanitize_data(search_text[\"summaryEn\"])\n",
    "\n",
    "search_texts = [search_space_item[\"summaryEn\"] for search_space_item in corpus_data]\n",
    "\n",
    "search_embedded: np.ndarray = embedding_model.encode(search_texts)\n",
    "output_data = [{\"uniqueId\": search_item[\"uniqueId\"], \"embedding\": embedding.tolist()} for search_item, embedding in zip(corpus_data, search_embedded)]\n",
    "\n",
    "json.dump(output_data, open(\"corpus_embedded.json\", \"w\"), indent = 2)"
   ]
  }
 ],
 "metadata": {
  "kernelspec": {
   "display_name": "facilex_caselaw",
   "language": "python",
   "name": "python3"
  },
  "language_info": {
   "codemirror_mode": {
    "name": "ipython",
    "version": 3
   },
   "file_extension": ".py",
   "mimetype": "text/x-python",
   "name": "python",
   "nbconvert_exporter": "python",
   "pygments_lexer": "ipython3",
   "version": "3.11.5"
  }
 },
 "nbformat": 4,
 "nbformat_minor": 2
}
