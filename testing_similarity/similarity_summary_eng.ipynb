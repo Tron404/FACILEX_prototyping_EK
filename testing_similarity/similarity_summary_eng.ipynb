{
 "cells": [
  {
   "cell_type": "code",
   "execution_count": 1,
   "metadata": {},
   "outputs": [],
   "source": [
    "import numpy as np\n",
    "import pandas as pd\n",
    "import os\n",
    "\n",
    "from sklearn.metrics.pairwise import cosine_similarity\n",
    "from collections import defaultdict\n",
    "from functools import partial\n",
    "from tqdm import tqdm"
   ]
  },
  {
   "cell_type": "code",
   "execution_count": 2,
   "metadata": {},
   "outputs": [
    {
     "name": "stdout",
     "output_type": "stream",
     "text": [
      "(317, 31)\n"
     ]
    },
    {
     "data": {
      "text/html": [
       "<div>\n",
       "<style scoped>\n",
       "    .dataframe tbody tr th:only-of-type {\n",
       "        vertical-align: middle;\n",
       "    }\n",
       "\n",
       "    .dataframe tbody tr th {\n",
       "        vertical-align: top;\n",
       "    }\n",
       "\n",
       "    .dataframe thead th {\n",
       "        text-align: right;\n",
       "    }\n",
       "</style>\n",
       "<table border=\"1\" class=\"dataframe\">\n",
       "  <thead>\n",
       "    <tr style=\"text-align: right;\">\n",
       "      <th></th>\n",
       "      <th>title</th>\n",
       "      <th>court</th>\n",
       "      <th>courtEng</th>\n",
       "      <th>dateOfDocument</th>\n",
       "      <th>jurisdiction</th>\n",
       "      <th>keywords</th>\n",
       "      <th>summary</th>\n",
       "      <th>summaryEn</th>\n",
       "      <th>language</th>\n",
       "      <th>decisionType</th>\n",
       "      <th>...</th>\n",
       "      <th>text</th>\n",
       "      <th>classifiers</th>\n",
       "      <th>celex</th>\n",
       "      <th>citation_all</th>\n",
       "      <th>citation_article</th>\n",
       "      <th>embedding_bert-base-uncased</th>\n",
       "      <th>embedding_multi-qa-mpnet-base-dot-v1</th>\n",
       "      <th>embedding_all-mpnet-base-v2</th>\n",
       "      <th>embedding_tfidf</th>\n",
       "      <th>embedding_fasttext_facilex</th>\n",
       "    </tr>\n",
       "  </thead>\n",
       "  <tbody>\n",
       "    <tr>\n",
       "      <th>0</th>\n",
       "      <td>Rechtbank Amsterdam, 11-06-2020, ECLI:NL:RBAMS...</td>\n",
       "      <td>Rechtbank Amsterdam</td>\n",
       "      <td>Court of Amsterdam</td>\n",
       "      <td>2020-11-10T23:00:00Z</td>\n",
       "      <td>Netherlands</td>\n",
       "      <td>[FW Decision 2002/584 (EAW), assault]</td>\n",
       "      <td>None</td>\n",
       "      <td>The case concerns the crime of [assault.] prov...</td>\n",
       "      <td>{'label': 'Dutch', 'code': 'NL'}</td>\n",
       "      <td>{'label': 'Judgment', 'code': 'J'}</td>\n",
       "      <td>...</td>\n",
       "      <td></td>\n",
       "      <td>[Non-mandatory ground for refusal (double crim...</td>\n",
       "      <td>{32002F0584}</td>\n",
       "      <td>{32002F0584.Article_3.Paragraph_3, 32002F0584....</td>\n",
       "      <td>{32002F0584.Article_2, 32002F0584.Article_3}</td>\n",
       "      <td>[-0.462717, 0.06187152, 0.03336446, -0.3502581...</td>\n",
       "      <td>[0.36602938, -0.13564043, -0.08998994, -0.0305...</td>\n",
       "      <td>[0.07333616, -0.055307057, 0.046860103, 0.0131...</td>\n",
       "      <td>[0.0, 0.0, 0.0, 0.0, 0.0, 0.0, 0.0, 0.0, 0.0, ...</td>\n",
       "      <td>[0.03847168, -0.025246186, 0.027346246, -0.005...</td>\n",
       "    </tr>\n",
       "    <tr>\n",
       "      <th>1</th>\n",
       "      <td>Rechtbank Amsterdam, 14-09-2023, ECLI:NL:RBAMS...</td>\n",
       "      <td>Rechtbank Amsterdam</td>\n",
       "      <td>Court of Amsterdam</td>\n",
       "      <td>2023-09-13T22:00:00Z</td>\n",
       "      <td>Netherlands</td>\n",
       "      <td>[Regulation 2018/1805, crime unknown]</td>\n",
       "      <td></td>\n",
       "      <td>The case concerns the crime of [unknown] provi...</td>\n",
       "      <td>{'label': 'Dutch', 'code': 'NL'}</td>\n",
       "      <td>{'label': 'Judgment', 'code': 'J'}</td>\n",
       "      <td>...</td>\n",
       "      <td></td>\n",
       "      <td>[Freezing, Transmission of a freezing/confisca...</td>\n",
       "      <td>{32018R1805}</td>\n",
       "      <td>{32018R1805.Article_4.Paragraph_1, 32018R1805....</td>\n",
       "      <td>{32018R1805.Article_8, 32018R1805.Article_4}</td>\n",
       "      <td>[-0.31860715, 0.106375396, 0.07862492, -0.2776...</td>\n",
       "      <td>[0.31108513, 0.007556932, -0.02016174, 0.40182...</td>\n",
       "      <td>[0.054476235, 0.041393988, 0.012051634, 0.0693...</td>\n",
       "      <td>[0.0, 0.0, 0.0, 0.0, 0.0, 0.0, 0.0, 0.0, 0.0, ...</td>\n",
       "      <td>[0.067469604, 0.02719136, -0.0075165145, 0.018...</td>\n",
       "    </tr>\n",
       "    <tr>\n",
       "      <th>2</th>\n",
       "      <td>Rechtbank Noord-Nederland, 13-12-2023, ECLI:NL...</td>\n",
       "      <td>Rechtbank Noord-Nederland</td>\n",
       "      <td>Court of northern Netherlands</td>\n",
       "      <td>2023-12-12T23:00:00Z</td>\n",
       "      <td>Netherlands</td>\n",
       "      <td>[Regulation 2018/1805, drug cultivation]</td>\n",
       "      <td></td>\n",
       "      <td>The case concerns thecrime of [drug cultivatio...</td>\n",
       "      <td>{'label': 'Dutch', 'code': 'NL'}</td>\n",
       "      <td>{'label': 'Judgment', 'code': 'J'}</td>\n",
       "      <td>...</td>\n",
       "      <td></td>\n",
       "      <td>[Confiscation, Grounds for non-recognition/non...</td>\n",
       "      <td>{32018R1805}</td>\n",
       "      <td>{32018R1805.Article_19.Paragraph_1.Letter_h, 3...</td>\n",
       "      <td>{32018R1805.Article_19}</td>\n",
       "      <td>[-0.32747883, 0.077745266, -0.005084518, -0.23...</td>\n",
       "      <td>[0.15722609, -0.01780169, 0.00019851288, 0.211...</td>\n",
       "      <td>[0.032698214, 0.006227661, 0.04437305, 0.04650...</td>\n",
       "      <td>[0.03484054219702668, 0.0, 0.0, 0.0, 0.0, 0.04...</td>\n",
       "      <td>[0.03978737, 0.0077718156, 0.037166152, 0.0367...</td>\n",
       "    </tr>\n",
       "    <tr>\n",
       "      <th>3</th>\n",
       "      <td>Rechtbank Amsterdam, 10-02-2022, ECLI:NL:RBAMS...</td>\n",
       "      <td>Rechtbank Amsterdam</td>\n",
       "      <td>Court of Amsterdam</td>\n",
       "      <td>2022-02-09T23:00:00Z</td>\n",
       "      <td>Netherlands</td>\n",
       "      <td>[FW Decision 2002/584 (EAW), driving a motor v...</td>\n",
       "      <td></td>\n",
       "      <td>The case concerns the crime of [driving a moto...</td>\n",
       "      <td>{'label': 'Dutch', 'code': 'NL'}</td>\n",
       "      <td>{'label': 'Judgment', 'code': 'J'}</td>\n",
       "      <td>...</td>\n",
       "      <td></td>\n",
       "      <td>[Non-mandatory ground for refusal (double crim...</td>\n",
       "      <td>{32002F0584}</td>\n",
       "      <td>{32002F0584.Article_13, 32002F0584.Article_2.P...</td>\n",
       "      <td>{32002F0584.Article_2, 32002F0584.Article_13}</td>\n",
       "      <td>[-0.42744553, 0.018157233, 0.06460364, -0.2898...</td>\n",
       "      <td>[0.09991563, -0.18537301, -0.08078547, 0.14107...</td>\n",
       "      <td>[0.034546424, -0.02873704, 0.04117731, 0.00520...</td>\n",
       "      <td>[0.0, 0.0, 0.0, 0.0, 0.0, 0.0, 0.0, 0.0, 0.0, ...</td>\n",
       "      <td>[0.061911363, -0.027440717, 0.021913657, 0.013...</td>\n",
       "    </tr>\n",
       "    <tr>\n",
       "      <th>4</th>\n",
       "      <td>Rechtbank Amsterdam, 03-08-2023, ECLI:NL:RBAMS...</td>\n",
       "      <td>Rechtbank Amsterdam</td>\n",
       "      <td>Court of Amsterdam</td>\n",
       "      <td>2023-08-02T22:00:00Z</td>\n",
       "      <td>Netherlands</td>\n",
       "      <td>[FW Decision 2002/584 (EAW), attempted theft i...</td>\n",
       "      <td></td>\n",
       "      <td>The case concerns the crime of [attempted thef...</td>\n",
       "      <td>{'label': 'Dutch', 'code': 'NL'}</td>\n",
       "      <td>{'label': 'Judgment', 'code': 'J'}</td>\n",
       "      <td>...</td>\n",
       "      <td></td>\n",
       "      <td>[Non-mandatory ground for refusal (double crim...</td>\n",
       "      <td>{32002F0584}</td>\n",
       "      <td>{32002F0584.Article_4a.Paragraph_1, 32002F0584...</td>\n",
       "      <td>{32002F0584.Article_2, 32002F0584.Article_4a, ...</td>\n",
       "      <td>[-0.424509, -0.01849142, 0.017533816, -0.34515...</td>\n",
       "      <td>[0.24081075, -0.2647753, -0.11420538, 0.194631...</td>\n",
       "      <td>[0.06733398, -0.04646661, 0.031646624, 0.01614...</td>\n",
       "      <td>[0.0, 0.0, 0.0, 0.0, 0.0, 0.0, 0.0, 0.0, 0.0, ...</td>\n",
       "      <td>[0.045386843, -0.026883297, 0.01750043, -0.000...</td>\n",
       "    </tr>\n",
       "  </tbody>\n",
       "</table>\n",
       "<p>5 rows × 31 columns</p>\n",
       "</div>"
      ],
      "text/plain": [
       "                                               title  \\\n",
       "0  Rechtbank Amsterdam, 11-06-2020, ECLI:NL:RBAMS...   \n",
       "1  Rechtbank Amsterdam, 14-09-2023, ECLI:NL:RBAMS...   \n",
       "2  Rechtbank Noord-Nederland, 13-12-2023, ECLI:NL...   \n",
       "3  Rechtbank Amsterdam, 10-02-2022, ECLI:NL:RBAMS...   \n",
       "4  Rechtbank Amsterdam, 03-08-2023, ECLI:NL:RBAMS...   \n",
       "\n",
       "                       court                       courtEng  \\\n",
       "0        Rechtbank Amsterdam            Court of Amsterdam    \n",
       "1        Rechtbank Amsterdam            Court of Amsterdam    \n",
       "2  Rechtbank Noord-Nederland  Court of northern Netherlands   \n",
       "3        Rechtbank Amsterdam            Court of Amsterdam    \n",
       "4        Rechtbank Amsterdam            Court of Amsterdam    \n",
       "\n",
       "         dateOfDocument jurisdiction  \\\n",
       "0  2020-11-10T23:00:00Z  Netherlands   \n",
       "1  2023-09-13T22:00:00Z  Netherlands   \n",
       "2  2023-12-12T23:00:00Z  Netherlands   \n",
       "3  2022-02-09T23:00:00Z  Netherlands   \n",
       "4  2023-08-02T22:00:00Z  Netherlands   \n",
       "\n",
       "                                            keywords summary  \\\n",
       "0              [FW Decision 2002/584 (EAW), assault]    None   \n",
       "1              [Regulation 2018/1805, crime unknown]           \n",
       "2           [Regulation 2018/1805, drug cultivation]           \n",
       "3  [FW Decision 2002/584 (EAW), driving a motor v...           \n",
       "4  [FW Decision 2002/584 (EAW), attempted theft i...           \n",
       "\n",
       "                                           summaryEn  \\\n",
       "0  The case concerns the crime of [assault.] prov...   \n",
       "1  The case concerns the crime of [unknown] provi...   \n",
       "2  The case concerns thecrime of [drug cultivatio...   \n",
       "3  The case concerns the crime of [driving a moto...   \n",
       "4  The case concerns the crime of [attempted thef...   \n",
       "\n",
       "                           language                        decisionType  ...  \\\n",
       "0  {'label': 'Dutch', 'code': 'NL'}  {'label': 'Judgment', 'code': 'J'}  ...   \n",
       "1  {'label': 'Dutch', 'code': 'NL'}  {'label': 'Judgment', 'code': 'J'}  ...   \n",
       "2  {'label': 'Dutch', 'code': 'NL'}  {'label': 'Judgment', 'code': 'J'}  ...   \n",
       "3  {'label': 'Dutch', 'code': 'NL'}  {'label': 'Judgment', 'code': 'J'}  ...   \n",
       "4  {'label': 'Dutch', 'code': 'NL'}  {'label': 'Judgment', 'code': 'J'}  ...   \n",
       "\n",
       "  text                                        classifiers         celex  \\\n",
       "0       [Non-mandatory ground for refusal (double crim...  {32002F0584}   \n",
       "1       [Freezing, Transmission of a freezing/confisca...  {32018R1805}   \n",
       "2       [Confiscation, Grounds for non-recognition/non...  {32018R1805}   \n",
       "3       [Non-mandatory ground for refusal (double crim...  {32002F0584}   \n",
       "4       [Non-mandatory ground for refusal (double crim...  {32002F0584}   \n",
       "\n",
       "                                        citation_all  \\\n",
       "0  {32002F0584.Article_3.Paragraph_3, 32002F0584....   \n",
       "1  {32018R1805.Article_4.Paragraph_1, 32018R1805....   \n",
       "2  {32018R1805.Article_19.Paragraph_1.Letter_h, 3...   \n",
       "3  {32002F0584.Article_13, 32002F0584.Article_2.P...   \n",
       "4  {32002F0584.Article_4a.Paragraph_1, 32002F0584...   \n",
       "\n",
       "                                    citation_article  \\\n",
       "0       {32002F0584.Article_2, 32002F0584.Article_3}   \n",
       "1       {32018R1805.Article_8, 32018R1805.Article_4}   \n",
       "2                            {32018R1805.Article_19}   \n",
       "3      {32002F0584.Article_2, 32002F0584.Article_13}   \n",
       "4  {32002F0584.Article_2, 32002F0584.Article_4a, ...   \n",
       "\n",
       "                         embedding_bert-base-uncased  \\\n",
       "0  [-0.462717, 0.06187152, 0.03336446, -0.3502581...   \n",
       "1  [-0.31860715, 0.106375396, 0.07862492, -0.2776...   \n",
       "2  [-0.32747883, 0.077745266, -0.005084518, -0.23...   \n",
       "3  [-0.42744553, 0.018157233, 0.06460364, -0.2898...   \n",
       "4  [-0.424509, -0.01849142, 0.017533816, -0.34515...   \n",
       "\n",
       "                embedding_multi-qa-mpnet-base-dot-v1  \\\n",
       "0  [0.36602938, -0.13564043, -0.08998994, -0.0305...   \n",
       "1  [0.31108513, 0.007556932, -0.02016174, 0.40182...   \n",
       "2  [0.15722609, -0.01780169, 0.00019851288, 0.211...   \n",
       "3  [0.09991563, -0.18537301, -0.08078547, 0.14107...   \n",
       "4  [0.24081075, -0.2647753, -0.11420538, 0.194631...   \n",
       "\n",
       "                         embedding_all-mpnet-base-v2  \\\n",
       "0  [0.07333616, -0.055307057, 0.046860103, 0.0131...   \n",
       "1  [0.054476235, 0.041393988, 0.012051634, 0.0693...   \n",
       "2  [0.032698214, 0.006227661, 0.04437305, 0.04650...   \n",
       "3  [0.034546424, -0.02873704, 0.04117731, 0.00520...   \n",
       "4  [0.06733398, -0.04646661, 0.031646624, 0.01614...   \n",
       "\n",
       "                                     embedding_tfidf  \\\n",
       "0  [0.0, 0.0, 0.0, 0.0, 0.0, 0.0, 0.0, 0.0, 0.0, ...   \n",
       "1  [0.0, 0.0, 0.0, 0.0, 0.0, 0.0, 0.0, 0.0, 0.0, ...   \n",
       "2  [0.03484054219702668, 0.0, 0.0, 0.0, 0.0, 0.04...   \n",
       "3  [0.0, 0.0, 0.0, 0.0, 0.0, 0.0, 0.0, 0.0, 0.0, ...   \n",
       "4  [0.0, 0.0, 0.0, 0.0, 0.0, 0.0, 0.0, 0.0, 0.0, ...   \n",
       "\n",
       "                          embedding_fasttext_facilex  \n",
       "0  [0.03847168, -0.025246186, 0.027346246, -0.005...  \n",
       "1  [0.067469604, 0.02719136, -0.0075165145, 0.018...  \n",
       "2  [0.03978737, 0.0077718156, 0.037166152, 0.0367...  \n",
       "3  [0.061911363, -0.027440717, 0.021913657, 0.013...  \n",
       "4  [0.045386843, -0.026883297, 0.01750043, -0.000...  \n",
       "\n",
       "[5 rows x 31 columns]"
      ]
     },
     "execution_count": 2,
     "metadata": {},
     "output_type": "execute_result"
    }
   ],
   "source": [
    "models = [\"bert_uncased\", \"multiqa_mpnet_dot\", \"mpnet\", \"tfidf\", \"fasttext_facilex\"]\n",
    "df_all = []\n",
    "path = \"./data/caselaw_emb\"\n",
    "\n",
    "# load in the individual jurisdictions and combine them into one dataframe\n",
    "for jurisdiction in os.listdir(path):\n",
    "    aux = pd.read_pickle(f\"{path}/{jurisdiction}/emb_{models[0]}.pickle\")\n",
    "    for model in models[:]:\n",
    "        read_df = pd.read_pickle(f\"./data/caselaw_emb/{jurisdiction}/emb_{model}.pickle\")\n",
    "        if type(read_df) == pd.DataFrame:\n",
    "            aux[read_df.columns[-1]] = read_df[read_df.columns[-1]]\n",
    "        else:\n",
    "            model = \"embedding_\" + model\n",
    "            aux[model] = list(read_df)\n",
    "\n",
    "    df_all.append(aux)\n",
    "\n",
    "df_all = pd.concat(df_all)\n",
    "df_all = df_all.reset_index(drop = True)\n",
    "print(df_all.shape)\n",
    "df_all.head()"
   ]
  },
  {
   "cell_type": "markdown",
   "metadata": {},
   "source": [
    "$P=\\frac{relevant\\ retrieved\\ docs}{total\\ retrieved\\ docs}$\n",
    "\n",
    "$R=\\frac{relevant\\ retrieved\\ docs}{total\\ retrieved\\ docs\\ in\\ dataset}$\n",
    "\n",
    "$MRR=\\frac{1}{|Q|}\\sum_q^Q \\frac{1}{rank_q}$\n",
    "\n",
    "$rank_q = 0$ if there are no relevant documents in the retrieved search window\\"
   ]
  },
  {
   "cell_type": "code",
   "execution_count": 34,
   "metadata": {},
   "outputs": [
    {
     "name": "stdout",
     "output_type": "stream",
     "text": [
      "CELEX ID of query case = \u001b[38;2;255;150;0m{'32018R1805.Article_8', '32018R1805.Article_4'}\u001b[0m\n",
      "---------------\n",
      "CELEX IDs of retrieved case = \u001b[38;2;255;150;0m{'32018R1805.Article_8'}\u001b[0m | They share at least one \u001b[38;2;0;150;0marticle-only EU citation\u001b[0m = \u001b[38;2;255;150;0mTrue\u001b[0m ===>> Retrieval score becomes = \u001b[38;2;255;150;0m[1]\u001b[0m\n",
      "CELEX IDs of retrieved case = \u001b[38;2;255;150;0m{'32018R1805.Article_8'}\u001b[0m | They share at least one \u001b[38;2;0;150;0marticle-only EU citation\u001b[0m = \u001b[38;2;255;150;0mTrue\u001b[0m ===>> Retrieval score becomes = \u001b[38;2;255;150;0m[1, 1]\u001b[0m\n",
      "CELEX IDs of retrieved case = \u001b[38;2;255;150;0m{'32018R1805.Article_8', '32018R1805.Article_4'}\u001b[0m | They share at least one \u001b[38;2;0;150;0marticle-only EU citation\u001b[0m = \u001b[38;2;255;150;0mTrue\u001b[0m ===>> Retrieval score becomes = \u001b[38;2;255;150;0m[1, 1, 1]\u001b[0m\n",
      "CELEX IDs of retrieved case = \u001b[38;2;255;150;0m{'32018R1805.Article_8', '32018R1805.Article_4'}\u001b[0m | They share at least one \u001b[38;2;0;150;0marticle-only EU citation\u001b[0m = \u001b[38;2;255;150;0mTrue\u001b[0m ===>> Retrieval score becomes = \u001b[38;2;255;150;0m[1, 1, 1, 1]\u001b[0m\n",
      "CELEX IDs of retrieved case = \u001b[38;2;255;150;0m{'32018R1805.Article_19'}\u001b[0m | They share at least one \u001b[38;2;0;150;0marticle-only EU citation\u001b[0m = \u001b[38;2;255;150;0mFalse\u001b[0m ===>> Retrieval score becomes = \u001b[38;2;255;150;0m[1, 1, 1, 1, 0]\u001b[0m\n",
      "=====================\n",
      "Final retrieval score = \u001b[38;2;255;150;0m[1, 1, 1, 1, 0]\u001b[0m ==>> There are \u001b[38;2;255;150;0m4\u001b[0m retrieved cases which share the same \u001b[38;2;0;150;0marticle-only EU citation\u001b[0m as the query case, out of k = \u001b[38;2;255;150;0m5\u001b[0m\n",
      "Number of cases relevant to the query, which are present in the entire dataset but not in the retrieval window = \u001b[38;2;255;150;0m7\u001b[0m; however, there are \u001b[38;2;255;150;0m1\u001b[0m retrieved non-relevant cases\n",
      "CELEX ID of query case = \u001b[38;2;255;150;0m{'32002F0584.Article_13', '32002F0584.Article_2', '32002F0584.Article_4', '32002F0584.Article_4a', '32002F0584.Article_24'}\u001b[0m\n",
      "---------------\n",
      "CELEX IDs of retrieved case = \u001b[38;2;255;150;0m{'32002F0584.Article_13', '32002F0584.Article_4a'}\u001b[0m | They share at least one \u001b[38;2;0;150;0marticle-only EU citation\u001b[0m = \u001b[38;2;255;150;0mTrue\u001b[0m ===>> Retrieval score becomes = \u001b[38;2;255;150;0m[1]\u001b[0m\n",
      "CELEX IDs of retrieved case = \u001b[38;2;255;150;0m{'32002F0584.Article_4'}\u001b[0m | They share at least one \u001b[38;2;0;150;0marticle-only EU citation\u001b[0m = \u001b[38;2;255;150;0mTrue\u001b[0m ===>> Retrieval score becomes = \u001b[38;2;255;150;0m[1, 1]\u001b[0m\n",
      "CELEX IDs of retrieved case = \u001b[38;2;255;150;0m{'32002F0584.Article_13', '32002F0584.Article_4'}\u001b[0m | They share at least one \u001b[38;2;0;150;0marticle-only EU citation\u001b[0m = \u001b[38;2;255;150;0mTrue\u001b[0m ===>> Retrieval score becomes = \u001b[38;2;255;150;0m[1, 1, 1]\u001b[0m\n",
      "CELEX IDs of retrieved case = \u001b[38;2;255;150;0m{'32002F0584'}\u001b[0m | They share at least one \u001b[38;2;0;150;0marticle-only EU citation\u001b[0m = \u001b[38;2;255;150;0mFalse\u001b[0m ===>> Retrieval score becomes = \u001b[38;2;255;150;0m[1, 1, 1, 0]\u001b[0m\n",
      "CELEX IDs of retrieved case = \u001b[38;2;255;150;0m{'32002F0584.Article_2', '32002F0584.Article_4'}\u001b[0m | They share at least one \u001b[38;2;0;150;0marticle-only EU citation\u001b[0m = \u001b[38;2;255;150;0mTrue\u001b[0m ===>> Retrieval score becomes = \u001b[38;2;255;150;0m[1, 1, 1, 0, 1]\u001b[0m\n",
      "=====================\n",
      "Final retrieval score = \u001b[38;2;255;150;0m[1, 1, 1, 0, 1]\u001b[0m ==>> There are \u001b[38;2;255;150;0m4\u001b[0m retrieved cases which share the same \u001b[38;2;0;150;0marticle-only EU citation\u001b[0m as the query case, out of k = \u001b[38;2;255;150;0m5\u001b[0m\n",
      "Number of cases relevant to the query, which are present in the entire dataset but not in the retrieval window = \u001b[38;2;255;150;0m91\u001b[0m; however, there are \u001b[38;2;255;150;0m1\u001b[0m retrieved non-relevant cases\n",
      "CELEX ID of query case = \u001b[38;2;255;150;0m{'32002F0584.Article_27'}\u001b[0m\n",
      "---------------\n",
      "CELEX IDs of retrieved case = \u001b[38;2;255;150;0m{'32002F0584.Article_27'}\u001b[0m | They share at least one \u001b[38;2;0;150;0marticle-only EU citation\u001b[0m = \u001b[38;2;255;150;0mTrue\u001b[0m ===>> Retrieval score becomes = \u001b[38;2;255;150;0m[1]\u001b[0m\n",
      "CELEX IDs of retrieved case = \u001b[38;2;255;150;0m{'32002F0584.Article_27'}\u001b[0m | They share at least one \u001b[38;2;0;150;0marticle-only EU citation\u001b[0m = \u001b[38;2;255;150;0mTrue\u001b[0m ===>> Retrieval score becomes = \u001b[38;2;255;150;0m[1, 1]\u001b[0m\n",
      "CELEX IDs of retrieved case = \u001b[38;2;255;150;0m{'32002F0584.Article_27'}\u001b[0m | They share at least one \u001b[38;2;0;150;0marticle-only EU citation\u001b[0m = \u001b[38;2;255;150;0mTrue\u001b[0m ===>> Retrieval score becomes = \u001b[38;2;255;150;0m[1, 1, 1]\u001b[0m\n",
      "CELEX IDs of retrieved case = \u001b[38;2;255;150;0m{'32002F0584.Article_4a', '32002F0584.Article_27'}\u001b[0m | They share at least one \u001b[38;2;0;150;0marticle-only EU citation\u001b[0m = \u001b[38;2;255;150;0mTrue\u001b[0m ===>> Retrieval score becomes = \u001b[38;2;255;150;0m[1, 1, 1, 1]\u001b[0m\n",
      "CELEX IDs of retrieved case = \u001b[38;2;255;150;0m{'32002F0584.Article_4a'}\u001b[0m | They share at least one \u001b[38;2;0;150;0marticle-only EU citation\u001b[0m = \u001b[38;2;255;150;0mFalse\u001b[0m ===>> Retrieval score becomes = \u001b[38;2;255;150;0m[1, 1, 1, 1, 0]\u001b[0m\n",
      "=====================\n",
      "Final retrieval score = \u001b[38;2;255;150;0m[1, 1, 1, 1, 0]\u001b[0m ==>> There are \u001b[38;2;255;150;0m4\u001b[0m retrieved cases which share the same \u001b[38;2;0;150;0marticle-only EU citation\u001b[0m as the query case, out of k = \u001b[38;2;255;150;0m5\u001b[0m\n",
      "Number of cases relevant to the query, which are present in the entire dataset but not in the retrieval window = \u001b[38;2;255;150;0m17\u001b[0m; however, there are \u001b[38;2;255;150;0m1\u001b[0m retrieved non-relevant cases\n"
     ]
    },
    {
     "data": {
      "text/latex": [
       "Precision@5 $= \\frac{\\#\\text{relevant retrieved cases}}{\\#\\text{total retrieved cases}} = \\frac{{1}}{3}\\cdot(\\frac{4}{5}+\\frac{4}{5}+\\frac{4}{5})=0.8$"
      ],
      "text/plain": [
       "<IPython.core.display.Latex object>"
      ]
     },
     "metadata": {},
     "output_type": "display_data"
    },
    {
     "data": {
      "text/latex": [
       "MRR@5 $= \\frac{1}{\\text{\\# queries}}\\sum_q^Q \\frac{1}{rank_q}=\\frac{{1}}{3}\\cdot(\\frac{1}{1}+\\frac{1}{1}+\\frac{1}{1})= 1.0$"
      ],
      "text/plain": [
       "<IPython.core.display.Latex object>"
      ]
     },
     "metadata": {},
     "output_type": "display_data"
    },
    {
     "data": {
      "text/latex": [
       "MRR missed@5 $= \\frac{1}{\\text{\\# queries}}\\sum_q^Q \\frac{1}{rank_q+miss_q}=\\frac{{1}}{3}\\cdot(\\frac{1}{1+1}+\\frac{1}{1+1}+\\frac{1}{1+1})= 0.5$"
      ],
      "text/plain": [
       "<IPython.core.display.Latex object>"
      ]
     },
     "metadata": {},
     "output_type": "display_data"
    },
    {
     "data": {
      "text/latex": [
       "Hitrate@5 $=\\frac{1}{\\text{\\# queries}}\\sum_q^Q any\\_rel(q)=\\frac{{1}}{3}\\cdot (1+1+1) = 1.0$"
      ],
      "text/plain": [
       "<IPython.core.display.Latex object>"
      ]
     },
     "metadata": {},
     "output_type": "display_data"
    },
    {
     "data": {
      "text/latex": [
       "MAP@5 $ = \\frac{1}{\\text{\\# queries}}\\sum_q^Q \\frac{1}{\\text{top\\_k}}\\sum_{k=1}^{\\text{top\\_k}}P_q(k)\\cdot rel_q(k)=\\frac{{1}}{3}([\\frac{1}{1}\\cdot1+\\frac{2}{2}\\cdot1+\\frac{3}{3}\\cdot1+\\frac{4}{4}\\cdot1+\\frac{4}{5}\\cdot0]+[\\frac{1}{1}\\cdot1+\\frac{2}{2}\\cdot1+\\frac{3}{3}\\cdot1+\\frac{3}{4}\\cdot0+\\frac{4}{5}\\cdot1]+[\\frac{1}{1}\\cdot1+\\frac{2}{2}\\cdot1+\\frac{3}{3}\\cdot1+\\frac{4}{4}\\cdot1+\\frac{4}{5}\\cdot0])= \\frac{{1}}{3}(4.0+3.8+4.0) = 0.787$"
      ],
      "text/plain": [
       "<IPython.core.display.Latex object>"
      ]
     },
     "metadata": {},
     "output_type": "display_data"
    },
    {
     "data": {
      "text/plain": [
       "{'precision@5': 0.8,\n",
       " 'map@5': 0.787,\n",
       " 'mrr@5': 1.0,\n",
       " 'mrr_miss@5': 0.5,\n",
       " 'hitrate@5': 1.0}"
      ]
     },
     "execution_count": 34,
     "metadata": {},
     "output_type": "execute_result"
    }
   ],
   "source": [
    "from IPython.display import display, Latex\n",
    "\n",
    "# used for ease of reading\n",
    "# https://stackoverflow.com/questions/39473297/how-do-i-print-colored-output-with-python-3\n",
    "class color_printing():\n",
    "    END = \"\\x1b[0m\"\n",
    "    Italic = \"\\x1b[3m\"\n",
    "    # If Foreground is False that means color effect on Background\n",
    "\n",
    "    def RGB(R, G, B, Foreground = True): # R: 0-255  ,  G: 0-255  ,  B: 0-255\n",
    "        FB_G = 38 # Effect on foreground\n",
    "        if Foreground != True:\n",
    "            FB_G = 48 # Effect on background\n",
    "        return \"\\x1b[\" + str(FB_G) + \";2;\" + str(R) + \";\" + str(G) + \";\" + str(B) + \"m\"\n",
    "    \n",
    "    def print_string(text, colours):\n",
    "        return color_printing.RGB(*colours) + text + color_printing.END\n",
    "\n",
    "def evaluate(retrieval_scores, missed_retrieval_scores, top_k):\n",
    "    metrics = {}\n",
    "\n",
    "    #### precision \n",
    "    metrics[f\"precision@{top_k}\"] = round(np.mean(np.sum(retrieval_scores, axis = 1)/top_k, 0), 3)\n",
    "\n",
    "    #### mean average precision for a retrieval window of k = 5\n",
    "    average_precision = np.sum([(np.sum(retrieval_scores[:, :k], axis = 1)/k) * retrieval_scores[:, k-1] for k in range(1, top_k+1)])/top_k\n",
    "    metrics[f\"map@{top_k}\"] = round(average_precision/len(retrieval_scores), 3)\n",
    "    \n",
    "    #### MRR and MRR missed\n",
    "    aux_retrieval_scores = np.hstack([np.zeros((retrieval_scores.shape[0], 1)), retrieval_scores])\n",
    "    rank = np.argmax(aux_retrieval_scores, axis = 1) # get first non-zero rank\n",
    "    missed = np.min([top_k - np.count_nonzero(retrieval_scores, axis = 1), np.sum(missed_retrieval_scores, axis = 1)], axis = 0)\n",
    "    running_mrr = np.sum(np.divide(1, rank, where = rank != 0)) # rank starts at 0 bcs. of this so rank + 1\n",
    "    running_mrr_miss = np.sum(np.divide(1, rank + missed, where = rank != 0)) # rank starts at 0 bcs. of this so rank + 1\n",
    "    metrics[f\"mrr@{top_k}\"] = round(running_mrr/(len(retrieval_scores)), 3)\n",
    "    metrics[f\"mrr_miss@{top_k}\"] = round(running_mrr_miss/len(retrieval_scores), 3)\n",
    "\n",
    "    #### hitrate\n",
    "    metrics[f\"hitrate@{top_k}\"] = round(np.sum(np.any(retrieval_scores, axis = 1))/len(retrieval_scores), 3)\n",
    "\n",
    "    # display of formula computations to facilitate understanding\n",
    "    #### precision\n",
    "    running_precision_latex = [r\"\\frac{%d}{%d}\" % (np.sum(retrieved), top_k) for retrieved in retrieval_scores]\n",
    "    display(Latex(\"Precision@%d $= \\\\frac{\\\\#\\\\text{relevant retrieved cases}}{\\\\#\\\\text{total retrieved cases}} = \" % (top_k) + \"\\\\frac{{1}}{%d}\\cdot(%s)\" % (len(running_precision_latex), '+'.join(running_precision_latex)) + f\"={metrics[f'precision@{top_k}']}$\"))\n",
    "\n",
    "    #### MRR\n",
    "    sum_mrr_latex = [r'\\frac{%d}{%d}' % (1, np.argmax(np.hstack([[0], retrieved]))) for retrieved in retrieval_scores]\n",
    "    running_mrr_latex = \"\\\\frac{{1}}{%d}\\cdot(%s)\" % (retrieval_scores.shape[0], '+'.join(sum_mrr_latex))\n",
    "    display(Latex(\"MRR@%d $= \\\\frac{1}{\\\\text{\\\\# queries}}\\\\sum_q^Q \\\\frac{1}{rank_q}=\" % (top_k) + running_mrr_latex + f\"= {metrics[f'mrr@{top_k}']}$\"))\n",
    "    \n",
    "    ### MRR miss\n",
    "    sum_mrr_miss_latex = [r'\\frac{%d}{%d+%d}' % (1, np.argmax(np.hstack([[0], retrieved])), np.min([top_k - np.count_nonzero(retrieved), np.sum(missed)])) for retrieved, missed in zip(retrieval_scores, missed_retrieval_scores)]\n",
    "    running_mrr_miss_latex = \"\\\\frac{{1}}{%d}\\cdot(%s)\" % (retrieval_scores.shape[0], '+'.join(sum_mrr_miss_latex))\n",
    "    display(Latex(\"MRR missed@%d $= \\\\frac{1}{\\\\text{\\\\# queries}}\\\\sum_q^Q \\\\frac{1}{rank_q+miss_q}=\" % (top_k) + running_mrr_miss_latex + f\"= {metrics[f'mrr_miss@{top_k}']}$\"))\n",
    "\n",
    "    ### hitrate\n",
    "    running_hitrate_latex = [\"%d\" % (np.any(retrieved)) for retrieved in retrieval_scores]\n",
    "    display(Latex(\"Hitrate@%d $=\\\\frac{1}{\\\\text{\\\\# queries}}\\\\sum_q^Q any\\\\_rel(q)=\" % (top_k) + \"\\\\frac{{1}}{%d}\\cdot (%s)\" % (len(retrieval_scores), '+'.join(running_hitrate_latex)) + f\" = {metrics[f'hitrate@{top_k}']}$\"))\n",
    "\n",
    "    ### average precision\n",
    "    running_ap_latex = [\"[\" + \"+\".join(['\\\\frac{%d}{%d}\\cdot%d' % (np.sum(retrieved[:k]), k, retrieved[k-1]) for k in range(1, top_k+1)]) + \"]\" for retrieved in retrieval_scores]\n",
    "    running_ap_latex_aux_calculations = np.round([[np.sum(retrieved[:k])/k*retrieved[k-1] for k in range(1, top_k+1)] for retrieved in retrieval_scores], 3)\n",
    "    display(Latex(\"MAP@%d $ = \\\\frac{1}{\\\\text{\\\\# queries}}\\\\sum_q^Q \\\\frac{1}{\\\\text{top\\\\_k}}\\sum_{k=1}^{\\\\text{top\\\\_k}}P_q(k)\\\\cdot rel_q(k)=\" % (top_k) + \"\\\\frac{{1}}{%d}(%s)\" % (len(retrieval_scores), '+'.join(running_ap_latex)) + \"= \\\\frac{{1}}{%d}\" % (len(retrieval_scores))+ f\"({'+'.join(np.sum(running_ap_latex_aux_calculations, axis = 1).astype(str))}) = {metrics[f'map@{top_k}']}$\"))\n",
    "\n",
    "    return metrics\n",
    "\n",
    "def unit_test(sample_case, search_corpus, query_type, top_k, model):\n",
    "    # name mapping to disambiguate what the system used as the ground truth\n",
    "    query_map = {\n",
    "        \"celex\": \"CELEX ID\",\n",
    "        \"citation_article\": \"article-only EU citation\"\n",
    "    }\n",
    "\n",
    "    if len(sample_case) < 2:\n",
    "        cosine_scores = cosine_similarity(np.asarray(sample_case[model].tolist()).reshape(1,-1), np.asarray(search_corpus[model].tolist()))\n",
    "    else:\n",
    "        cosine_scores = cosine_similarity(np.asarray(sample_case[model].tolist()), np.asarray(search_corpus[model].tolist()))\n",
    "\n",
    "    retrieval_scores = []\n",
    "    missed_retrieval_scores = []\n",
    "\n",
    "    for idx in range(sample_case.shape[0]):\n",
    "        all_matches = np.argsort(cosine_scores[idx])[::-1]\n",
    "\n",
    "        best_matches = all_matches[1:top_k+1]\n",
    "        query_celex = sample_case.iloc[idx][query_type]\n",
    "\n",
    "        print(f\"CELEX ID of query case = {color_printing.print_string(str(query_celex), colours = (255, 150, 0))}\")\n",
    "        print(\"---------------\")\n",
    "\n",
    "        # see which top_k retrieved documents were retrieved\n",
    "        score = []\n",
    "        for retrieved_case in best_matches:\n",
    "            retrieved_celex = search_corpus.iloc[retrieved_case][query_type]\n",
    "            score.append(int(len(query_celex & retrieved_celex) > 0))\n",
    "\n",
    "            print(f\"CELEX IDs of retrieved case = {color_printing.print_string(str(retrieved_celex), colours = (255, 150, 0))} | They share at least one {color_printing.print_string(query_map[query_type], colours = (0, 150, 0))} = {color_printing.print_string(str(len(retrieved_celex & query_celex) > 0), colours = (255, 150, 0))} ===>> Retrieval score becomes = {color_printing.print_string(str(score), colours = (255, 150, 0))}\")\n",
    "\n",
    "        ### find all relevant cases that were missed\n",
    "        missed_matches = []\n",
    "        # for retrieved_case in all_matches[1:len(df_temp)]:\n",
    "        for retrieved_case in all_matches[1:]:\n",
    "            retrieved_celex = search_corpus.iloc[retrieved_case][query_type]\n",
    "            missed_matches.append(int(len(query_celex & retrieved_celex) > 0))\n",
    "\n",
    "        print(\"=====================\")\n",
    "        print(f\"Final retrieval score = {color_printing.print_string(str(score), colours = (255, 150, 0))} ==>> There are {color_printing.print_string(str(np.sum(score)), colours = (255, 150, 0))} retrieved cases which share the same {color_printing.print_string(query_map[query_type], colours = (0, 150, 0))} as the query case, out of k = {color_printing.print_string(str(top_k), colours = (255, 150, 0))}\")\n",
    "        print(f\"Number of cases relevant to the query, which are present in the entire dataset but not in the retrieval window = {color_printing.print_string(str(np.sum(missed_matches)), colours = (255, 150, 0))}; however, there are {color_printing.print_string(str(top_k - np.count_nonzero(score)), colours = (255, 150, 0))} retrieved non-relevant cases\")\n",
    "\n",
    "        score = np.asarray(score)\n",
    "        missed_matches = np.asarray(missed_matches)\n",
    "        retrieval_scores.append(score)\n",
    "        missed_retrieval_scores.append(missed_matches)\n",
    "\n",
    "    metrics = evaluate(np.asarray(retrieval_scores), np.asarray(missed_retrieval_scores), top_k = 5)\n",
    "        \n",
    "    return metrics\n",
    "\n",
    "unit_test(df_all.iloc[7:10], df_all, \"citation_article\", 5, model = \"embedding_multi-qa-mpnet-base-dot-v1\")"
   ]
  },
  {
   "cell_type": "code",
   "execution_count": 27,
   "metadata": {},
   "outputs": [],
   "source": [
    "def write_output(df_entry, file, **additional_information):\n",
    "    if additional_information[\"output_type\"] == \"query\":\n",
    "        file.write(f\"\\n===================\\n\")\n",
    "        file.write(f\"({df_entry['jurisdiction']}) ({df_entry['celex']}) ({df_entry['title']})\\n\")\n",
    "        file.write(df_entry[\"summaryEn\"])\n",
    "        file.write(f\"\\n===================\\nRetrieved cases (top {additional_information['top_k']})\\n------------\\n\")\n",
    "    else:\n",
    "        file.write(f\"({df_entry['celex'] & additional_information['df_entry_retrieved']['retrieved_celex']}) ({additional_information['df_entry_retrieved']['jurisdiction']}) ({additional_information['df_entry_retrieved']['title']})\\n\")\n",
    "        file.write(additional_information['df_entry_retrieved'][\"summaryEn\"])\n",
    "        file.write(\"\\n\\n\")\n",
    "\n",
    "def evaluate(retrieval_scores, missed_retrieval_scores, top_k):\n",
    "    metrics = {}\n",
    "\n",
    "    #### precision \n",
    "    metrics[f\"precision@{top_k}\"] = round(np.mean(np.sum(retrieval_scores, axis = 1)/top_k, 0), 3)\n",
    "\n",
    "    #### map@5\n",
    "    average_precision = np.sum([(np.sum(retrieval_scores[:, :k], axis = 1)/k) * retrieval_scores[:, k-1] for k in range(1, top_k+1)])/top_k\n",
    "    metrics[f\"map@{top_k}\"] = round(average_precision/len(retrieval_scores), 3)\n",
    "    \n",
    "    #### MRR\n",
    "    aux_retrieval_scores = np.hstack([np.zeros((retrieval_scores.shape[0], 1)), retrieval_scores])\n",
    "    rank = np.argmax(aux_retrieval_scores, axis = 1) # get first non-zero rank\n",
    "    running_mrr = np.sum(np.divide(1, rank, where = rank != 0)) # rank starts at 0 bcs. of this so rank + 1\n",
    "    metrics[f\"mrr@{top_k}\"] = round(running_mrr/(len(retrieval_scores)), 3)\n",
    "\n",
    "    return metrics\n",
    "\n",
    "# def pr_curve(retrieval_scores, missed_retrieval_scores):\n",
    "#     aux = []\n",
    "#     for k in range(1,5+1):\n",
    "#         precision = np.mean(np.sum(retrieval_scores[:k], axis = 1)/k, 0)\n",
    "#         recall = np.mean(np.sum(retrieval_scores[:,:k], axis = 1)/np.sum(missed_retrieval_scores[:,:k], axis=1))\n",
    "#         aux.append([precision, recall])\n",
    "#     print(aux)\n",
    "\n",
    "def cosine_search_output(query, search, query_type, df, top_k = 5, debug_output: int = 0):\n",
    "    if debug_output:\n",
    "        texts = open(f\"output_combined.txt\", \"w\")\n",
    "    \n",
    "    cosine_scores = cosine_similarity(query, search)\n",
    "    retrieval_scores = []\n",
    "    missed_retrieval_scores = []\n",
    "    \n",
    "    for i in range(cosine_scores.shape[0]):\n",
    "        all_matches = np.argsort(cosine_scores[i])[::-1]\n",
    "\n",
    "        best_matches = all_matches[1:top_k+1]\n",
    "        query_celex = df.iloc[i][query_type]\n",
    "\n",
    "        write_output(df.iloc[0], texts, top_k = top_k) if i < debug_output else 1\n",
    "\n",
    "        # see which top_k retrieved documents were retrieved\n",
    "        score = []\n",
    "        for retrieved_case in best_matches:\n",
    "            retrieved_celex = df.iloc[retrieved_case][query_type]\n",
    "            score.append(int(len(query_celex & retrieved_celex) > 0))\n",
    "            write_output(df.iloc[i], texts, top_k = top_k, df_entry_retrieved = df.iloc[retrieved_case]) if i < debug_output else 1\n",
    "\n",
    "        ### find all relevant cases that were missed\n",
    "        missed_matches = []\n",
    "        # for retrieved_case in all_matches[1:]:\n",
    "        for retrieved_case in all_matches[top_k+1:]:\n",
    "            retrieved_celex = df.iloc[retrieved_case][query_type]\n",
    "            missed_matches.append(int(len(query_celex & retrieved_celex) > 0))\n",
    "\n",
    "        score = np.asarray(score)\n",
    "        retrieval_scores.append(score)\n",
    "        missed_retrieval_scores.append(missed_matches)\n",
    "        \n",
    "    texts.close() if debug_output else 1\n",
    "\n",
    "    return np.asarray(retrieval_scores), np.asarray(missed_retrieval_scores)"
   ]
  },
  {
   "cell_type": "code",
   "execution_count": 26,
   "metadata": {},
   "outputs": [
    {
     "name": "stderr",
     "output_type": "stream",
     "text": [
      " 87%|████████▋ | 27/31 [00:01<00:00, 20.83it/s]"
     ]
    },
    {
     "name": "stdout",
     "output_type": "stream",
     "text": [
      "embedding_bert-base-uncased\n",
      "embedding_multi-qa-mpnet-base-dot-v1\n",
      "embedding_all-mpnet-base-v2\n"
     ]
    },
    {
     "name": "stderr",
     "output_type": "stream",
     "text": [
      " 97%|█████████▋| 30/31 [00:05<00:00,  4.50it/s]"
     ]
    },
    {
     "name": "stdout",
     "output_type": "stream",
     "text": [
      "embedding_tfidf\n"
     ]
    },
    {
     "name": "stderr",
     "output_type": "stream",
     "text": [
      "100%|██████████| 31/31 [00:06<00:00,  4.75it/s]\n"
     ]
    },
    {
     "name": "stdout",
     "output_type": "stream",
     "text": [
      "embedding_fasttext_facilex\n"
     ]
    },
    {
     "name": "stderr",
     "output_type": "stream",
     "text": [
      " 87%|████████▋ | 27/31 [00:01<00:00, 21.25it/s]"
     ]
    },
    {
     "name": "stdout",
     "output_type": "stream",
     "text": [
      "embedding_bert-base-uncased\n",
      "embedding_multi-qa-mpnet-base-dot-v1\n",
      "embedding_all-mpnet-base-v2\n"
     ]
    },
    {
     "name": "stderr",
     "output_type": "stream",
     "text": [
      " 97%|█████████▋| 30/31 [00:05<00:00,  4.32it/s]"
     ]
    },
    {
     "name": "stdout",
     "output_type": "stream",
     "text": [
      "embedding_tfidf\n"
     ]
    },
    {
     "name": "stderr",
     "output_type": "stream",
     "text": [
      "100%|██████████| 31/31 [00:06<00:00,  4.63it/s]"
     ]
    },
    {
     "name": "stdout",
     "output_type": "stream",
     "text": [
      "embedding_fasttext_facilex\n"
     ]
    },
    {
     "name": "stderr",
     "output_type": "stream",
     "text": [
      "\n"
     ]
    }
   ],
   "source": [
    "search_functions = [partial(cosine_search_output, query_type = \"celex\"), partial(cosine_search_output, query_type = \"citation_article\")]\n",
    "\n",
    "scores_search_function = defaultdict()\n",
    "\n",
    "metrics = {\"Model\": [], \"Value\": [], \"Score\": [], \"Query_type\": []}\n",
    "for idx, search_func in enumerate(search_functions):\n",
    "    aux = df_all.copy()\n",
    "    subset = aux\n",
    "    for model in tqdm(df_all.columns):\n",
    "        if \"embedding\" not in model:\n",
    "            continue\n",
    "        embds_query = np.asarray(subset[model].tolist())\n",
    "        embds_corpus = np.asarray(df_all[model].tolist())\n",
    "\n",
    "        retrieval_scores, missed_retrieval_scores = search_func(query = embds_query, search = embds_corpus, df = df_all, top_k = 5)\n",
    "        evaluation_results = evaluate(retrieval_scores, missed_retrieval_scores, top_k = 5)\n",
    "        metrics[\"Model\"] += [\"_\".join(model.split(\"_\")[1:])] * len(list(evaluation_results.keys()))\n",
    "        metrics[\"Value\"] += list(evaluation_results.values())\n",
    "        metrics[\"Score\"] += list(evaluation_results.keys())\n",
    "\n",
    "    metrics[\"Query_type\"] += [list(search_func.keywords.values())[0]] * (len(metrics[\"Model\"])//(idx+1))\n",
    "metrics = pd.DataFrame(metrics)"
   ]
  },
  {
   "cell_type": "code",
   "execution_count": 25,
   "metadata": {},
   "outputs": [
    {
     "data": {
      "image/png": "[encoded data removed]",
      "text/plain": [
       "<Figure size 1270.38x500 with 2 Axes>"
      ]
     },
     "metadata": {},
     "output_type": "display_data"
    }
   ],
   "source": [
    "import matplotlib.pyplot as plt\n",
    "import seaborn as sns\n",
    "\n",
    "sns.set_theme(style = \"whitegrid\")\n",
    "fig = sns.catplot(kind = \"bar\", data = metrics, x = \"Score\", y = \"Value\", col = \"Query_type\", hue = \"Model\")\n",
    "\n",
    "plt.show()"
   ]
  }
 ],
 "metadata": {
  "kernelspec": {
   "display_name": "facilex_caselaw",
   "language": "python",
   "name": "python3"
  },
  "language_info": {
   "codemirror_mode": {
    "name": "ipython",
    "version": 3
   },
   "file_extension": ".py",
   "mimetype": "text/x-python",
   "name": "python",
   "nbconvert_exporter": "python",
   "pygments_lexer": "ipython3",
   "version": "3.11.5"
  }
 },
 "nbformat": 4,
 "nbformat_minor": 2
}
